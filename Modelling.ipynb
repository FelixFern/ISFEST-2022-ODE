{
 "cells": [
  {
   "cell_type": "code",
   "execution_count": 1,
   "metadata": {},
   "outputs": [],
   "source": [
    "import matplotlib.pyplot as plt\n",
    "import pandas as pd \n",
    "import numpy as np\n",
    "import seaborn as sns\n",
    "from sklearn.model_selection import train_test_split\n",
    "from sklearn.model_selection import StratifiedKFold\n",
    "from sklearn.model_selection import cross_val_score\n",
    "from sklearn.linear_model import LogisticRegression\n",
    "from sklearn.tree import DecisionTreeClassifier\n",
    "from sklearn.tree import plot_tree\n",
    "from sklearn.cluster import KMeans\n",
    "from sklearn.ensemble import RandomForestClassifier\n",
    "from sklearn.svm import SVC\n",
    "from sklearn.neighbors import KNeighborsClassifier\n",
    "from sklearn.metrics import accuracy_score\n",
    "from sklearn.metrics import confusion_matrix\n",
    "from sklearn.metrics import classification_report\n",
    "from scipy.stats import skew, kurtosis\n",
    "from imblearn.under_sampling import RandomUnderSampler\n",
    "from imblearn.over_sampling import RandomOverSampler\n",
    "from imblearn.over_sampling import SMOTE"
   ]
  },
  {
   "cell_type": "markdown",
   "metadata": {},
   "source": [
    "# Data Preparation"
   ]
  },
  {
   "cell_type": "code",
   "execution_count": 2,
   "metadata": {},
   "outputs": [],
   "source": [
    "df1 = pd.read_csv(\"Dataset1_TranscriptMahasiswa.csv\", sep=\";\", dtype={\"NIM\" :\"object\", \"NAMA_MK\" : \"string\"})\n",
    "df2 = pd.read_csv(\"Dataset2_EvaluasiDosenPerMK.csv\", sep=\";\", decimal=\",\")"
   ]
  },
  {
   "cell_type": "markdown",
   "metadata": {},
   "source": [
    "## Df1 -> Df3"
   ]
  },
  {
   "cell_type": "code",
   "execution_count": 3,
   "metadata": {},
   "outputs": [],
   "source": [
    "df1['KODE_MK'][df1['NAMA_MK'].isnull()].unique()\n",
    "\n",
    "# fill Nama_MK yang null\n",
    "\n",
    "df1[\"NAMA_MK\"] = df1[\"NAMA_MK\"].fillna(\"Tugas Akhir\") # Kebetulan yang null cuman SI863\n",
    "\n",
    "# add kode MK ke Nama_MK\n",
    "\n",
    "for i in df1.index:  \n",
    "    if df1.at[i, \"KODE_MK\"] not in df1.at[i, \"NAMA_MK\"].split(\" \") : \n",
    "        df1.at[i, \"NAMA_MK\"] = df1.at[i, \"KODE_MK\"] + \" \" + df1.at[i, \"NAMA_MK\"]\n",
    "\n",
    "        indeks = [\"A\", \"A-\", \"B+\", \"B\", \"B-\", \"C+\", \"C\", \"D\", \"E\", \"F\"]\n",
    "bobot = [4, 3.7, 3.3, 3.0, 2.7, 2.3, 2.0, 1.0, 0, 0]\n",
    "ranges = [[100, 85], [84.99, 80], [79.99, 75], [74.99, 70], [69.99, 65], [64.99, 60], [59.99, 55], [54.99, 45], [44.99,0]]\n",
    "\n",
    "# fill grade yang null\n",
    "\n",
    "for i in df1.index:\n",
    "    for j in ranges:\n",
    "        if j[1] <= df1.at[i, \"NILAI\"] <= j[0]:\n",
    "            df1.at[i, \"GRADE\"] = indeks[ranges.index(j)]\n",
    "\n",
    "# menambah total bobot = bobot x sks\n",
    "\n",
    "for i in df1.index:\n",
    "    for j in indeks:\n",
    "        if df1.at[i, \"GRADE\"] == j:\n",
    "            df1.at[i, \"BOBOT\"] = bobot[indeks.index(j)]\n",
    "            df1.at[i, \"TOTAL_BOBOT\"] = df1.at[i, \"BOBOT\"] * df1.at[i, \"SKS\"]\n",
    "\n",
    "# fill null NILAI\n",
    "\n",
    "df1[\"NILAI\"] = df1[\"NILAI\"].fillna(0)\n",
    "df1[df1['NILAI'].isnull()]\n",
    "\n",
    "# dropping duplicate MK\n",
    "df1 = df1.drop_duplicates(subset=['KODE_MK', 'NIM'], keep='last')"
   ]
  },
  {
   "cell_type": "code",
   "execution_count": 4,
   "metadata": {},
   "outputs": [],
   "source": [
    "# Pembuataan Dataframe dengan grouping data berdasarkan NIM\n",
    "# Perhitungan SKS\n",
    "df3_ = pd.DataFrame(df1.groupby([\"NIM\"])[\"SKS\"].sum().reset_index())\n",
    "# Perhitungan Grade\n",
    "df3__ = pd.DataFrame(df1.loc[(df1[\"GRADE\"] == \"D\") | (df1[\"GRADE\"] == \"E\") | (df1[\"GRADE\"] == \"F\")].groupby(\"NIM\")[\"GRADE\"].sum().reset_index())\n",
    "# Perhitungan Total Bobot\n",
    "df3___ = pd.DataFrame((df1.groupby(\"NIM\")[\"TOTAL_BOBOT\"].sum().reset_index()))\n",
    "# Perhitungan jumlah semester\n",
    "df3____ =  pd.DataFrame((((df1.groupby(\"NIM\")[\"SEMESTER\"].max() - df1.groupby(\"NIM\")[\"SEMESTER\"].min()) / 100).reset_index()))\n",
    "# Penambahan Nilai Rata-rata \n",
    "df3_____ =  pd.DataFrame((((df1.groupby(\"NIM\")[\"NILAI\"].mean().reset_index()))))\n",
    "\n",
    "# Merging Dataframe\n",
    "df3 = pd.merge(df3_, df3__, how=\"left\", on=[\"NIM\"])\n",
    "df3 = pd.merge(df3, df3___, how=\"left\", on=[\"NIM\"])\n",
    "df3 = pd.merge(df3, df3____, how=\"left\", on=[\"NIM\"])\n",
    "df3 = pd.merge(df3, df3_____, how=\"left\", on=[\"NIM\"])\n",
    "df3[\"GRADE\"] = df3[\"GRADE\"].fillna(\"\")\n",
    "\n",
    "df3.rename(columns = {\"GRADE\" : \"FAILED_GRADE\", \"SKS\" : \"TOTAL_SKS\", \"SEMESTER\" : \"WAKTU_KULIAH\", \"NILAI\" : \"NILAI_RATA-RATA\"}, inplace = True)\n",
    "\n",
    "# Perhitungan IPK\n",
    "for i in df3.index:\n",
    "    df3.at[i ,\"IPK\"] = df3.at[i, \"TOTAL_BOBOT\"] / df3.at[i, \"TOTAL_SKS\"]\n",
    "    if df3.at[i, \"WAKTU_KULIAH\"] - int(df3.at[i, \"WAKTU_KULIAH\"]) != 0: \n",
    "        df3.at[i, \"WAKTU_KULIAH\"] = int(df3.at[i, \"WAKTU_KULIAH\"]) + 0.5\n",
    "\n",
    "# Kolom :\n",
    "# Hasil : TIDAK LULUS, LULUS, TEPAT WAKTU\n",
    "\n",
    "for i in df3.index:\n",
    "    if df3.at[i, \"TOTAL_SKS\"] >= 144 and df3.at[i, \"FAILED_GRADE\"] == \"\" and df3.at[i, \"IPK\"] >= 2.5:\n",
    "        if df3.at[i, \"WAKTU_KULIAH\"] <= 4:\n",
    "            df3.at[i, \"HASIL\"] = \"Lulus Tepat Waktu\"\n",
    "        else: \n",
    "            df3.at[i, \"HASIL\"] = \"Lulus Telat\"\n",
    "    else:  \n",
    "        df3.at[i, \"HASIL\"] = \"Tidak Lulus\""
   ]
  },
  {
   "cell_type": "code",
   "execution_count": 5,
   "metadata": {},
   "outputs": [
    {
     "data": {
      "text/html": [
       "<div>\n",
       "<style scoped>\n",
       "    .dataframe tbody tr th:only-of-type {\n",
       "        vertical-align: middle;\n",
       "    }\n",
       "\n",
       "    .dataframe tbody tr th {\n",
       "        vertical-align: top;\n",
       "    }\n",
       "\n",
       "    .dataframe thead th {\n",
       "        text-align: right;\n",
       "    }\n",
       "</style>\n",
       "<table border=\"1\" class=\"dataframe\">\n",
       "  <thead>\n",
       "    <tr style=\"text-align: right;\">\n",
       "      <th></th>\n",
       "      <th>NIM</th>\n",
       "      <th>TOTAL_SKS</th>\n",
       "      <th>FAILED_GRADE</th>\n",
       "      <th>TOTAL_BOBOT</th>\n",
       "      <th>WAKTU_KULIAH</th>\n",
       "      <th>NILAI_RATA-RATA</th>\n",
       "      <th>IPK</th>\n",
       "      <th>HASIL</th>\n",
       "    </tr>\n",
       "  </thead>\n",
       "  <tbody>\n",
       "    <tr>\n",
       "      <th>0</th>\n",
       "      <td>00000008429</td>\n",
       "      <td>145</td>\n",
       "      <td>D</td>\n",
       "      <td>474.5</td>\n",
       "      <td>3.5</td>\n",
       "      <td>77.882353</td>\n",
       "      <td>3.272414</td>\n",
       "      <td>Tidak Lulus</td>\n",
       "    </tr>\n",
       "    <tr>\n",
       "      <th>1</th>\n",
       "      <td>00000008455</td>\n",
       "      <td>136</td>\n",
       "      <td>DD</td>\n",
       "      <td>416.2</td>\n",
       "      <td>3.5</td>\n",
       "      <td>74.551020</td>\n",
       "      <td>3.060294</td>\n",
       "      <td>Tidak Lulus</td>\n",
       "    </tr>\n",
       "    <tr>\n",
       "      <th>2</th>\n",
       "      <td>00000008481</td>\n",
       "      <td>127</td>\n",
       "      <td>DDDEEED</td>\n",
       "      <td>313.6</td>\n",
       "      <td>3.5</td>\n",
       "      <td>65.934783</td>\n",
       "      <td>2.469291</td>\n",
       "      <td>Tidak Lulus</td>\n",
       "    </tr>\n",
       "    <tr>\n",
       "      <th>3</th>\n",
       "      <td>00000008631</td>\n",
       "      <td>145</td>\n",
       "      <td></td>\n",
       "      <td>519.3</td>\n",
       "      <td>3.0</td>\n",
       "      <td>83.294118</td>\n",
       "      <td>3.581379</td>\n",
       "      <td>Lulus Tepat Waktu</td>\n",
       "    </tr>\n",
       "    <tr>\n",
       "      <th>4</th>\n",
       "      <td>00000008684</td>\n",
       "      <td>145</td>\n",
       "      <td></td>\n",
       "      <td>512.1</td>\n",
       "      <td>3.0</td>\n",
       "      <td>82.352941</td>\n",
       "      <td>3.531724</td>\n",
       "      <td>Lulus Tepat Waktu</td>\n",
       "    </tr>\n",
       "    <tr>\n",
       "      <th>...</th>\n",
       "      <td>...</td>\n",
       "      <td>...</td>\n",
       "      <td>...</td>\n",
       "      <td>...</td>\n",
       "      <td>...</td>\n",
       "      <td>...</td>\n",
       "      <td>...</td>\n",
       "      <td>...</td>\n",
       "    </tr>\n",
       "    <tr>\n",
       "      <th>765</th>\n",
       "      <td>14110310095</td>\n",
       "      <td>145</td>\n",
       "      <td>DD</td>\n",
       "      <td>469.9</td>\n",
       "      <td>4.0</td>\n",
       "      <td>76.923077</td>\n",
       "      <td>3.240690</td>\n",
       "      <td>Tidak Lulus</td>\n",
       "    </tr>\n",
       "    <tr>\n",
       "      <th>766</th>\n",
       "      <td>14110310098</td>\n",
       "      <td>145</td>\n",
       "      <td>D</td>\n",
       "      <td>464.1</td>\n",
       "      <td>4.0</td>\n",
       "      <td>75.365385</td>\n",
       "      <td>3.200690</td>\n",
       "      <td>Tidak Lulus</td>\n",
       "    </tr>\n",
       "    <tr>\n",
       "      <th>767</th>\n",
       "      <td>14110310101</td>\n",
       "      <td>138</td>\n",
       "      <td></td>\n",
       "      <td>438.4</td>\n",
       "      <td>4.5</td>\n",
       "      <td>75.673469</td>\n",
       "      <td>3.176812</td>\n",
       "      <td>Tidak Lulus</td>\n",
       "    </tr>\n",
       "    <tr>\n",
       "      <th>768</th>\n",
       "      <td>14110310102</td>\n",
       "      <td>133</td>\n",
       "      <td>EEE</td>\n",
       "      <td>362.2</td>\n",
       "      <td>4.5</td>\n",
       "      <td>68.687500</td>\n",
       "      <td>2.723308</td>\n",
       "      <td>Tidak Lulus</td>\n",
       "    </tr>\n",
       "    <tr>\n",
       "      <th>769</th>\n",
       "      <td>14110310105</td>\n",
       "      <td>127</td>\n",
       "      <td>E</td>\n",
       "      <td>365.5</td>\n",
       "      <td>4.5</td>\n",
       "      <td>70.391304</td>\n",
       "      <td>2.877953</td>\n",
       "      <td>Tidak Lulus</td>\n",
       "    </tr>\n",
       "  </tbody>\n",
       "</table>\n",
       "<p>770 rows × 8 columns</p>\n",
       "</div>"
      ],
      "text/plain": [
       "             NIM  TOTAL_SKS FAILED_GRADE  TOTAL_BOBOT  WAKTU_KULIAH  \\\n",
       "0    00000008429        145            D        474.5           3.5   \n",
       "1    00000008455        136           DD        416.2           3.5   \n",
       "2    00000008481        127      DDDEEED        313.6           3.5   \n",
       "3    00000008631        145                     519.3           3.0   \n",
       "4    00000008684        145                     512.1           3.0   \n",
       "..           ...        ...          ...          ...           ...   \n",
       "765  14110310095        145           DD        469.9           4.0   \n",
       "766  14110310098        145            D        464.1           4.0   \n",
       "767  14110310101        138                     438.4           4.5   \n",
       "768  14110310102        133          EEE        362.2           4.5   \n",
       "769  14110310105        127            E        365.5           4.5   \n",
       "\n",
       "     NILAI_RATA-RATA       IPK              HASIL  \n",
       "0          77.882353  3.272414        Tidak Lulus  \n",
       "1          74.551020  3.060294        Tidak Lulus  \n",
       "2          65.934783  2.469291        Tidak Lulus  \n",
       "3          83.294118  3.581379  Lulus Tepat Waktu  \n",
       "4          82.352941  3.531724  Lulus Tepat Waktu  \n",
       "..               ...       ...                ...  \n",
       "765        76.923077  3.240690        Tidak Lulus  \n",
       "766        75.365385  3.200690        Tidak Lulus  \n",
       "767        75.673469  3.176812        Tidak Lulus  \n",
       "768        68.687500  2.723308        Tidak Lulus  \n",
       "769        70.391304  2.877953        Tidak Lulus  \n",
       "\n",
       "[770 rows x 8 columns]"
      ]
     },
     "execution_count": 5,
     "metadata": {},
     "output_type": "execute_result"
    }
   ],
   "source": [
    "df3"
   ]
  },
  {
   "cell_type": "markdown",
   "metadata": {},
   "source": [
    "## Df2 -> Df4"
   ]
  },
  {
   "cell_type": "code",
   "execution_count": 6,
   "metadata": {},
   "outputs": [],
   "source": [
    "# nilai rata-rata dari tiap matakuliah\n",
    "df4 = pd.DataFrame(df2.groupby([\"TAHUN\", \"MATAKULIAH\"])[\"NILAI\"].mean().reset_index())\n",
    "df4.rename(columns = {\"NILAI\" : \"NILAI_RATA-RATA\"}, inplace = True)"
   ]
  },
  {
   "cell_type": "markdown",
   "metadata": {},
   "source": [
    "# Modelling"
   ]
  },
  {
   "cell_type": "markdown",
   "metadata": {},
   "source": [
    "## Sampling and Data Splitting"
   ]
  },
  {
   "cell_type": "code",
   "execution_count": 21,
   "metadata": {},
   "outputs": [],
   "source": [
    "X = df3[['TOTAL_SKS', 'IPK', 'WAKTU_KULIAH']]\n",
    "y = df3['HASIL']"
   ]
  },
  {
   "cell_type": "code",
   "execution_count": 38,
   "metadata": {},
   "outputs": [
    {
     "data": {
      "image/png": "[encoded data removed]",
      "text/plain": [
       "<Figure size 432x288 with 1 Axes>"
      ]
     },
     "metadata": {
      "needs_background": "light"
     },
     "output_type": "display_data"
    }
   ],
   "source": [
    "rus = RandomUnderSampler(sampling_strategy={'Tidak Lulus' : 42, 'Lulus Telat' : 7, 'Lulus Tepat Waktu' : 14})\n",
    "X_rus, y_rus = rus.fit_resample(X, y) \n",
    "\n",
    "y_rus.value_counts().plot(kind=\"bar\")\n",
    "\n",
    "# split dataset\n",
    "\n",
    "X_train, X_val, y_train, y_val = train_test_split(X_rus, y_rus, test_size=0.25, shuffle=True, random_state=42)"
   ]
  },
  {
   "cell_type": "code",
   "execution_count": 41,
   "metadata": {},
   "outputs": [
    {
     "data": {
      "image/png": "[encoded data removed]",
      "text/plain": [
       "<Figure size 432x288 with 1 Axes>"
      ]
     },
     "metadata": {
      "needs_background": "light"
     },
     "output_type": "display_data"
    }
   ],
   "source": [
    "ros = RandomOverSampler(sampling_strategy='all')\n",
    "rus = RandomUnderSampler(sampling_strategy={'Tidak Lulus' : 295, 'Lulus Telat' : 295, 'Lulus Tepat Waktu' : 295})\n",
    "\n",
    "X_ros, y_ros = ros.fit_resample(X, y) \n",
    "X_rus, y_rus = rus.fit_resample(X_ros, y_ros) \n",
    "\n",
    "y_rus.value_counts().plot(kind=\"bar\")\n",
    "\n",
    "# split dataset\n",
    "\n",
    "X_train, X_val, y_train, y_val = train_test_split(X_rus, y_rus, test_size=0.25, shuffle=True, random_state=42)"
   ]
  },
  {
   "cell_type": "code",
   "execution_count": 42,
   "metadata": {},
   "outputs": [
    {
     "data": {
      "text/plain": [
       "<AxesSubplot:>"
      ]
     },
     "execution_count": 42,
     "metadata": {},
     "output_type": "execute_result"
    },
    {
     "data": {
      "image/png": "[encoded data removed]",
      "text/plain": [
       "<Figure size 432x288 with 1 Axes>"
      ]
     },
     "metadata": {
      "needs_background": "light"
     },
     "output_type": "display_data"
    }
   ],
   "source": [
    "y.value_counts().plot(kind=\"bar\")"
   ]
  },
  {
   "cell_type": "markdown",
   "metadata": {},
   "source": [
    "## Model Evaluation"
   ]
  },
  {
   "cell_type": "code",
   "execution_count": 53,
   "metadata": {},
   "outputs": [
    {
     "name": "stderr",
     "output_type": "stream",
     "text": [
      "c:\\Users\\acer\\AppData\\Local\\Programs\\Python\\Python39\\lib\\site-packages\\sklearn\\linear_model\\_logistic.py:444: ConvergenceWarning: lbfgs failed to converge (status=1):\n",
      "STOP: TOTAL NO. of ITERATIONS REACHED LIMIT.\n",
      "\n",
      "Increase the number of iterations (max_iter) or scale the data as shown in:\n",
      "    https://scikit-learn.org/stable/modules/preprocessing.html\n",
      "Please also refer to the documentation for alternative solver options:\n",
      "    https://scikit-learn.org/stable/modules/linear_model.html#logistic-regression\n",
      "  n_iter_i = _check_optimize_result(\n",
      "c:\\Users\\acer\\AppData\\Local\\Programs\\Python\\Python39\\lib\\site-packages\\sklearn\\linear_model\\_logistic.py:444: ConvergenceWarning: lbfgs failed to converge (status=1):\n",
      "STOP: TOTAL NO. of ITERATIONS REACHED LIMIT.\n",
      "\n",
      "Increase the number of iterations (max_iter) or scale the data as shown in:\n",
      "    https://scikit-learn.org/stable/modules/preprocessing.html\n",
      "Please also refer to the documentation for alternative solver options:\n",
      "    https://scikit-learn.org/stable/modules/linear_model.html#logistic-regression\n",
      "  n_iter_i = _check_optimize_result(\n",
      "c:\\Users\\acer\\AppData\\Local\\Programs\\Python\\Python39\\lib\\site-packages\\sklearn\\linear_model\\_logistic.py:444: ConvergenceWarning: lbfgs failed to converge (status=1):\n",
      "STOP: TOTAL NO. of ITERATIONS REACHED LIMIT.\n",
      "\n",
      "Increase the number of iterations (max_iter) or scale the data as shown in:\n",
      "    https://scikit-learn.org/stable/modules/preprocessing.html\n",
      "Please also refer to the documentation for alternative solver options:\n",
      "    https://scikit-learn.org/stable/modules/linear_model.html#logistic-regression\n",
      "  n_iter_i = _check_optimize_result(\n"
     ]
    },
    {
     "name": "stdout",
     "output_type": "stream",
     "text": [
      "LR \t | cv_score_mean: 0.8823529411764706 \t | cv_score_std: 0.016104190425386588\n",
      "CART \t | cv_score_mean: 0.923076923076923 \t | cv_score_std: 0.009774872848277332\n",
      "RF \t | cv_score_mean: 0.9260935143288084 \t | cv_score_std: 0.012974849573216632\n",
      "SVC \t | cv_score_mean: 0.5490196078431372 \t | cv_score_std: 0.030763315315793602\n",
      "KNN \t | cv_score_mean: 0.9215686274509803 \t | cv_score_std: 0.00929775867717796\n"
     ]
    }
   ],
   "source": [
    "np.random.seed(42)\n",
    "\n",
    "# spot-check algorithm\n",
    "models = [('LR', LogisticRegression()),\n",
    "         ('CART', DecisionTreeClassifier()),\n",
    "         ('RF', RandomForestClassifier()),\n",
    "         ('SVC', SVC()),\n",
    "         ('KNN', KNeighborsClassifier())]\n",
    "\n",
    "models_name = []\n",
    "results = []\n",
    "\n",
    "for name, model in models:\n",
    "    kfold = StratifiedKFold(n_splits=3, shuffle=True, random_state=42)\n",
    "    cv_score = cross_val_score(model, X_train, y_train, cv=kfold, scoring='accuracy')\n",
    "    models_name.append(name)\n",
    "    results.append(cv_score)\n",
    "    print(f'{name} \\t | cv_score_mean: {cv_score.mean()} \\t | cv_score_std: {cv_score.std()}')"
   ]
  },
  {
   "cell_type": "code",
   "execution_count": 44,
   "metadata": {},
   "outputs": [
    {
     "data": {
      "text/plain": [
       "<AxesSubplot:>"
      ]
     },
     "execution_count": 44,
     "metadata": {},
     "output_type": "execute_result"
    },
    {
     "data": {
      "image/png": "[encoded data removed]",
      "text/plain": [
       "<Figure size 504x432 with 1 Axes>"
      ]
     },
     "metadata": {
      "needs_background": "light"
     },
     "output_type": "display_data"
    }
   ],
   "source": [
    "# boxplot comparing models\n",
    "results_df = pd.DataFrame(np.asarray(results).T, columns=models_name)\n",
    "\n",
    "plt.figure(figsize=(7,6))\n",
    "sns.boxplot(data=results_df, palette='pastel')"
   ]
  },
  {
   "cell_type": "markdown",
   "metadata": {},
   "source": [
    "# Pertanyaan Soal\n",
    "1. Menemukan seberapa besar pengaruh mata kuliah yang diikuti dan atau kualitas dosen mata kulah untuk kelulusan tepat waktu mahasiswa.\n",
    "2. Melakukan analisis dan faktor pengaruh kualitas dosen melalui pencapaian nilai akhir mahasiswa yang digunakan sebagai prediksi terhadap kelulusan tepat waktu mahasiswa,\n",
    "3. Melakukan analisis dan menetapkan penemuan faktor-faktor yang sangat berpengaruh terhadap waktu studi mahasiswa dan kesimpulan dari prediksi pengaruh kualitas dosen terhadap kelulusan mahasiswa tepat waktu\n",
    "4. Membuat prediksi tren kelulusan tepat waktu mahasiswa Program Studi Sistem Informasi (sesuai dengan data yang digunakan)."
   ]
  },
  {
   "cell_type": "markdown",
   "metadata": {},
   "source": [
    "# Modeling ketepatan waktu lulus"
   ]
  },
  {
   "cell_type": "code",
   "execution_count": 54,
   "metadata": {},
   "outputs": [
    {
     "data": {
      "text/html": [
       "<div>\n",
       "<style scoped>\n",
       "    .dataframe tbody tr th:only-of-type {\n",
       "        vertical-align: middle;\n",
       "    }\n",
       "\n",
       "    .dataframe tbody tr th {\n",
       "        vertical-align: top;\n",
       "    }\n",
       "\n",
       "    .dataframe thead th {\n",
       "        text-align: right;\n",
       "    }\n",
       "</style>\n",
       "<table border=\"1\" class=\"dataframe\">\n",
       "  <thead>\n",
       "    <tr style=\"text-align: right;\">\n",
       "      <th></th>\n",
       "      <th>index</th>\n",
       "      <th>NIM</th>\n",
       "      <th>TOTAL_SKS</th>\n",
       "      <th>FAILED_GRADE</th>\n",
       "      <th>TOTAL_BOBOT</th>\n",
       "      <th>WAKTU_KULIAH</th>\n",
       "      <th>NILAI_RATA-RATA</th>\n",
       "      <th>IPK</th>\n",
       "      <th>HASIL</th>\n",
       "    </tr>\n",
       "  </thead>\n",
       "  <tbody>\n",
       "  </tbody>\n",
       "</table>\n",
       "</div>"
      ],
      "text/plain": [
       "Empty DataFrame\n",
       "Columns: [index, NIM, TOTAL_SKS, FAILED_GRADE, TOTAL_BOBOT, WAKTU_KULIAH, NILAI_RATA-RATA, IPK, HASIL]\n",
       "Index: []"
      ]
     },
     "execution_count": 54,
     "metadata": {},
     "output_type": "execute_result"
    }
   ],
   "source": [
    "df5 = df3[df3['HASIL'] == 'Lulus'].reset_index()\n",
    "df5"
   ]
  },
  {
   "cell_type": "code",
   "execution_count": 55,
   "metadata": {},
   "outputs": [
    {
     "ename": "ValueError",
     "evalue": "a must be greater than 0 unless no samples are taken",
     "output_type": "error",
     "traceback": [
      "\u001b[1;31m---------------------------------------------------------------------------\u001b[0m",
      "\u001b[1;31mValueError\u001b[0m                                Traceback (most recent call last)",
      "\u001b[1;32m~\\AppData\\Local\\Temp/ipykernel_16640/1607395993.py\u001b[0m in \u001b[0;36m<module>\u001b[1;34m\u001b[0m\n\u001b[0;32m      7\u001b[0m         \u001b[0mdf5\u001b[0m\u001b[1;33m.\u001b[0m\u001b[0mloc\u001b[0m\u001b[1;33m[\u001b[0m\u001b[0mi\u001b[0m\u001b[1;33m,\u001b[0m \u001b[1;34m'TIPE'\u001b[0m\u001b[1;33m]\u001b[0m \u001b[1;33m=\u001b[0m \u001b[1;34m'Telat'\u001b[0m\u001b[1;33m\u001b[0m\u001b[1;33m\u001b[0m\u001b[0m\n\u001b[0;32m      8\u001b[0m \u001b[1;33m\u001b[0m\u001b[0m\n\u001b[1;32m----> 9\u001b[1;33m \u001b[0mdf5\u001b[0m\u001b[1;33m.\u001b[0m\u001b[0msample\u001b[0m\u001b[1;33m(\u001b[0m\u001b[1;36m10\u001b[0m\u001b[1;33m)\u001b[0m\u001b[1;33m\u001b[0m\u001b[1;33m\u001b[0m\u001b[0m\n\u001b[0m",
      "\u001b[1;32mc:\\Users\\acer\\AppData\\Local\\Programs\\Python\\Python39\\lib\\site-packages\\pandas\\core\\generic.py\u001b[0m in \u001b[0;36msample\u001b[1;34m(self, n, frac, replace, weights, random_state, axis)\u001b[0m\n\u001b[0;32m   4991\u001b[0m             )\n\u001b[0;32m   4992\u001b[0m \u001b[1;33m\u001b[0m\u001b[0m\n\u001b[1;32m-> 4993\u001b[1;33m         \u001b[0mlocs\u001b[0m \u001b[1;33m=\u001b[0m \u001b[0mrs\u001b[0m\u001b[1;33m.\u001b[0m\u001b[0mchoice\u001b[0m\u001b[1;33m(\u001b[0m\u001b[0maxis_length\u001b[0m\u001b[1;33m,\u001b[0m \u001b[0msize\u001b[0m\u001b[1;33m=\u001b[0m\u001b[0mn\u001b[0m\u001b[1;33m,\u001b[0m \u001b[0mreplace\u001b[0m\u001b[1;33m=\u001b[0m\u001b[0mreplace\u001b[0m\u001b[1;33m,\u001b[0m \u001b[0mp\u001b[0m\u001b[1;33m=\u001b[0m\u001b[0mweights\u001b[0m\u001b[1;33m)\u001b[0m\u001b[1;33m\u001b[0m\u001b[1;33m\u001b[0m\u001b[0m\n\u001b[0m\u001b[0;32m   4994\u001b[0m         \u001b[1;32mreturn\u001b[0m \u001b[0mself\u001b[0m\u001b[1;33m.\u001b[0m\u001b[0mtake\u001b[0m\u001b[1;33m(\u001b[0m\u001b[0mlocs\u001b[0m\u001b[1;33m,\u001b[0m \u001b[0maxis\u001b[0m\u001b[1;33m=\u001b[0m\u001b[0maxis\u001b[0m\u001b[1;33m)\u001b[0m\u001b[1;33m\u001b[0m\u001b[1;33m\u001b[0m\u001b[0m\n\u001b[0;32m   4995\u001b[0m \u001b[1;33m\u001b[0m\u001b[0m\n",
      "\u001b[1;32mmtrand.pyx\u001b[0m in \u001b[0;36mnumpy.random.mtrand.RandomState.choice\u001b[1;34m()\u001b[0m\n",
      "\u001b[1;31mValueError\u001b[0m: a must be greater than 0 unless no samples are taken"
     ]
    }
   ],
   "source": [
    "# menambahkan kolom jenis kelulusan\n",
    "\n",
    "for i in range(len(df5)):\n",
    "    if df5.loc[i, 'WAKTU_KULIAH'] <= 4:\n",
    "        df5.loc[i, 'TIPE'] = 'Tepat Waktu'\n",
    "    else:\n",
    "        df5.loc[i, 'TIPE'] = 'Telat'\n",
    "        \n",
    "df5.sample(10)"
   ]
  },
  {
   "cell_type": "code",
   "execution_count": 25,
   "metadata": {},
   "outputs": [
    {
     "ename": "NameError",
     "evalue": "name 'df5' is not defined",
     "output_type": "error",
     "traceback": [
      "\u001b[1;31m---------------------------------------------------------------------------\u001b[0m",
      "\u001b[1;31mNameError\u001b[0m                                 Traceback (most recent call last)",
      "\u001b[1;32m~\\AppData\\Local\\Temp/ipykernel_16640/277133091.py\u001b[0m in \u001b[0;36m<module>\u001b[1;34m\u001b[0m\n\u001b[1;32m----> 1\u001b[1;33m \u001b[0mdf5\u001b[0m\u001b[1;33m[\u001b[0m\u001b[1;34m'TIPE'\u001b[0m\u001b[1;33m]\u001b[0m\u001b[1;33m.\u001b[0m\u001b[0mvalue_counts\u001b[0m\u001b[1;33m(\u001b[0m\u001b[1;33m)\u001b[0m\u001b[1;33m.\u001b[0m\u001b[0mplot\u001b[0m\u001b[1;33m(\u001b[0m\u001b[0mkind\u001b[0m\u001b[1;33m=\u001b[0m\u001b[1;34m'bar'\u001b[0m\u001b[1;33m,\u001b[0m \u001b[0mwidth\u001b[0m\u001b[1;33m=\u001b[0m\u001b[1;36m0.4\u001b[0m\u001b[1;33m)\u001b[0m\u001b[1;33m\u001b[0m\u001b[1;33m\u001b[0m\u001b[0m\n\u001b[0m\u001b[0;32m      2\u001b[0m \u001b[0mplt\u001b[0m\u001b[1;33m.\u001b[0m\u001b[0mxticks\u001b[0m\u001b[1;33m(\u001b[0m\u001b[0mrotation\u001b[0m\u001b[1;33m=\u001b[0m\u001b[1;36m0\u001b[0m\u001b[1;33m)\u001b[0m\u001b[1;33m\u001b[0m\u001b[1;33m\u001b[0m\u001b[0m\n\u001b[0;32m      3\u001b[0m \u001b[0mplt\u001b[0m\u001b[1;33m.\u001b[0m\u001b[0mtitle\u001b[0m\u001b[1;33m(\u001b[0m\u001b[1;34m'Jumlah Jenis Kelulusan Mahasiswa'\u001b[0m\u001b[1;33m)\u001b[0m\u001b[1;33m\u001b[0m\u001b[1;33m\u001b[0m\u001b[0m\n\u001b[0;32m      4\u001b[0m \u001b[0mplt\u001b[0m\u001b[1;33m.\u001b[0m\u001b[0mshow\u001b[0m\u001b[1;33m(\u001b[0m\u001b[1;33m)\u001b[0m\u001b[1;33m\u001b[0m\u001b[1;33m\u001b[0m\u001b[0m\n",
      "\u001b[1;31mNameError\u001b[0m: name 'df5' is not defined"
     ]
    }
   ],
   "source": [
    "df5['TIPE'].value_counts().plot(kind='bar', width=0.4)\n",
    "plt.xticks(rotation=0)\n",
    "plt.title('Jumlah Jenis Kelulusan Mahasiswa')\n",
    "plt.show()"
   ]
  },
  {
   "cell_type": "code",
   "execution_count": 41,
   "metadata": {},
   "outputs": [],
   "source": [
    "X = df5[['TOTAL_SKS', 'IPK', 'WAKTU_KULIAH']]\n",
    "y = df5['TIPE']"
   ]
  },
  {
   "cell_type": "code",
   "execution_count": 52,
   "metadata": {},
   "outputs": [
    {
     "data": {
      "image/png": "[encoded data removed]",
      "text/plain": [
       "<Figure size 432x288 with 1 Axes>"
      ]
     },
     "metadata": {
      "needs_background": "light"
     },
     "output_type": "display_data"
    }
   ],
   "source": [
    "rus = RandomUnderSampler(sampling_strategy=0.5)\n",
    "X_rus, y_rus = rus.fit_resample(X, y) \n",
    "\n",
    "y_rus.value_counts().plot(kind=\"bar\", width=0.4)\n",
    "plt.xticks(rotation=0)\n",
    "\n",
    "# split dataset\n",
    "\n",
    "X_train, X_val, y_train, y_val = train_test_split(X_rus, y_rus, test_size=0.25, shuffle=True, random_state=42)"
   ]
  },
  {
   "cell_type": "code",
   "execution_count": 53,
   "metadata": {},
   "outputs": [
    {
     "name": "stdout",
     "output_type": "stream",
     "text": [
      "LR \t | cv_score_mean: 0.8666666666666667 \t | cv_score_std: 0.1885618083164127\n",
      "CART \t | cv_score_mean: 1.0 \t | cv_score_std: 0.0\n",
      "RF \t | cv_score_mean: 1.0 \t | cv_score_std: 0.0\n",
      "SVC \t | cv_score_mean: 0.7333333333333334 \t | cv_score_std: 0.09428090415820638\n",
      "KNN \t | cv_score_mean: 0.8666666666666667 \t | cv_score_std: 0.1885618083164127\n"
     ]
    }
   ],
   "source": [
    "np.random.seed(42)\n",
    "\n",
    "# spot-check algorithm\n",
    "models = [('LR', LogisticRegression()),\n",
    "         ('CART', DecisionTreeClassifier()),\n",
    "         ('RF', RandomForestClassifier()),\n",
    "         ('SVC', SVC()),\n",
    "         ('KNN', KNeighborsClassifier())]\n",
    "\n",
    "models_name = []\n",
    "results = []\n",
    "\n",
    "for name, model in models:\n",
    "    kfold = StratifiedKFold(n_splits=3, shuffle=True, random_state=42)\n",
    "    cv_score = cross_val_score(model, X_train, y_train, cv=kfold, scoring='accuracy')\n",
    "    models_name.append(name)\n",
    "    results.append(cv_score)\n",
    "    print(f'{name} \\t | cv_score_mean: {cv_score.mean()} \\t | cv_score_std: {cv_score.std()}')"
   ]
  },
  {
   "cell_type": "code",
   "execution_count": 54,
   "metadata": {},
   "outputs": [
    {
     "data": {
      "text/plain": [
       "<AxesSubplot:>"
      ]
     },
     "execution_count": 54,
     "metadata": {},
     "output_type": "execute_result"
    },
    {
     "data": {
      "image/png": "[encoded data removed]",
      "text/plain": [
       "<Figure size 504x432 with 1 Axes>"
      ]
     },
     "metadata": {
      "needs_background": "light"
     },
     "output_type": "display_data"
    }
   ],
   "source": [
    "# boxplot comparing models\n",
    "results_df = pd.DataFrame(np.asarray(results).T, columns=models_name)\n",
    "\n",
    "plt.figure(figsize=(7,6))\n",
    "sns.boxplot(data=results_df, palette='pastel')"
   ]
  },
  {
   "cell_type": "markdown",
   "metadata": {},
   "source": [
    "# testing oversample"
   ]
  },
  {
   "cell_type": "code",
   "execution_count": 59,
   "metadata": {},
   "outputs": [
    {
     "data": {
      "image/png": "[encoded data removed]",
      "text/plain": [
       "<Figure size 432x288 with 1 Axes>"
      ]
     },
     "metadata": {
      "needs_background": "light"
     },
     "output_type": "display_data"
    }
   ],
   "source": [
    "ov = RandomOverSampler(sampling_strategy=0.5)\n",
    "X_ov, y_ov = ov.fit_resample(X, y)\n",
    "\n",
    "y_ov.value_counts().plot(kind=\"bar\", width=0.4)\n",
    "plt.xticks(rotation=0)\n",
    "\n",
    "# split dataset\n",
    "\n",
    "X_train, X_val, y_train, y_val = train_test_split(X_ov, y_ov, test_size=0.25, shuffle=True, random_state=42)"
   ]
  },
  {
   "cell_type": "code",
   "execution_count": 60,
   "metadata": {},
   "outputs": [
    {
     "name": "stdout",
     "output_type": "stream",
     "text": [
      "LR \t | cv_score_mean: 1.0 \t | cv_score_std: 0.0\n",
      "CART \t | cv_score_mean: 1.0 \t | cv_score_std: 0.0\n",
      "RF \t | cv_score_mean: 1.0 \t | cv_score_std: 0.0\n",
      "SVC \t | cv_score_mean: 0.6461538461538462 \t | cv_score_std: 0.0\n",
      "KNN \t | cv_score_mean: 1.0 \t | cv_score_std: 0.0\n"
     ]
    }
   ],
   "source": [
    "np.random.seed(42)\n",
    "\n",
    "# spot-check algorithm\n",
    "models = [('LR', LogisticRegression()),\n",
    "         ('CART', DecisionTreeClassifier()),\n",
    "         ('RF', RandomForestClassifier()),\n",
    "         ('SVC', SVC()),\n",
    "         ('KNN', KNeighborsClassifier())]\n",
    "\n",
    "models_name = []\n",
    "results = []\n",
    "\n",
    "for name, model in models:\n",
    "    kfold = StratifiedKFold(n_splits=3, shuffle=True, random_state=42)\n",
    "    cv_score = cross_val_score(model, X_train, y_train, cv=kfold, scoring='accuracy')\n",
    "    models_name.append(name)\n",
    "    results.append(cv_score)\n",
    "    print(f'{name} \\t | cv_score_mean: {cv_score.mean()} \\t | cv_score_std: {cv_score.std()}')"
   ]
  },
  {
   "cell_type": "code",
   "execution_count": null,
   "metadata": {},
   "outputs": [],
   "source": []
  }
 ],
 "metadata": {
  "kernelspec": {
   "display_name": "Python 3.9.0 64-bit",
   "language": "python",
   "name": "python3"
  },
  "language_info": {
   "codemirror_mode": {
    "name": "ipython",
    "version": 3
   },
   "file_extension": ".py",
   "mimetype": "text/x-python",
   "name": "python",
   "nbconvert_exporter": "python",
   "pygments_lexer": "ipython3",
   "version": "3.9.0"
  },
  "orig_nbformat": 4,
  "vscode": {
   "interpreter": {
    "hash": "8f5816e6188795d1cc8afa4306b69c5e3a103f064a75e820fe776234e4cf83e8"
   }
  }
 },
 "nbformat": 4,
 "nbformat_minor": 2
}
