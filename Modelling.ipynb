{
 "cells": [
  {
   "cell_type": "code",
   "execution_count": 1,
   "metadata": {},
   "outputs": [],
   "source": [
    "import matplotlib.pyplot as plt\n",
    "import pandas as pd \n",
    "import numpy as np\n",
    "import seaborn as sns\n",
    "from sklearn.model_selection import train_test_split\n",
    "from sklearn.model_selection import StratifiedKFold\n",
    "from sklearn.model_selection import cross_val_score\n",
    "from sklearn.linear_model import LogisticRegression\n",
    "from sklearn.tree import DecisionTreeClassifier\n",
    "from sklearn.tree import plot_tree\n",
    "from sklearn.cluster import KMeans\n",
    "from sklearn.ensemble import RandomForestClassifier\n",
    "from sklearn.svm import SVC\n",
    "from sklearn.neighbors import KNeighborsClassifier\n",
    "from sklearn.metrics import accuracy_score\n",
    "from sklearn.metrics import confusion_matrix\n",
    "from sklearn.metrics import classification_report\n",
    "from scipy.stats import skew, kurtosis\n",
    "from imblearn.under_sampling import RandomUnderSampler"
   ]
  },
  {
   "cell_type": "markdown",
   "metadata": {},
   "source": [
    "# Data Preparation"
   ]
  },
  {
   "cell_type": "code",
   "execution_count": 2,
   "metadata": {},
   "outputs": [],
   "source": [
    "df1 = pd.read_csv(\"Dataset1_TranscriptMahasiswa.csv\", sep=\";\", dtype={\"NIM\" :\"object\", \"NAMA_MK\" : \"string\"})\n",
    "df2 = pd.read_csv(\"Dataset2_EvaluasiDosenPerMK.csv\", sep=\";\", decimal=\",\")"
   ]
  },
  {
   "cell_type": "markdown",
   "metadata": {},
   "source": [
    "## Df1 -> Df3"
   ]
  },
  {
   "cell_type": "code",
   "execution_count": 3,
   "metadata": {},
   "outputs": [],
   "source": [
    "df1['KODE_MK'][df1['NAMA_MK'].isnull()].unique()\n",
    "\n",
    "# fill Nama_MK yang null\n",
    "\n",
    "df1[\"NAMA_MK\"] = df1[\"NAMA_MK\"].fillna(\"Tugas Akhir\") # Kebetulan yang null cuman SI863\n",
    "\n",
    "# add kode MK ke Nama_MK\n",
    "\n",
    "for i in df1.index:  \n",
    "    if df1.at[i, \"KODE_MK\"] not in df1.at[i, \"NAMA_MK\"].split(\" \") : \n",
    "        df1.at[i, \"NAMA_MK\"] = df1.at[i, \"KODE_MK\"] + \" \" + df1.at[i, \"NAMA_MK\"]\n",
    "\n",
    "        indeks = [\"A\", \"A-\", \"B+\", \"B\", \"B-\", \"C+\", \"C\", \"D\", \"E\", \"F\"]\n",
    "bobot = [4, 3.7, 3.3, 3.0, 2.7, 2.3, 2.0, 1.0, 0, 0]\n",
    "ranges = [[100, 85], [84.99, 80], [79.99, 75], [74.99, 70], [69.99, 65], [64.99, 60], [59.99, 55], [54.99, 45], [44.99,0]]\n",
    "\n",
    "# fill grade yang null\n",
    "\n",
    "for i in df1.index:\n",
    "    for j in ranges:\n",
    "        if j[1] <= df1.at[i, \"NILAI\"] <= j[0]:\n",
    "            df1.at[i, \"GRADE\"] = indeks[ranges.index(j)]\n",
    "\n",
    "# menambah total bobot = bobot x sks\n",
    "\n",
    "for i in df1.index:\n",
    "    for j in indeks:\n",
    "        if df1.at[i, \"GRADE\"] == j:\n",
    "            df1.at[i, \"BOBOT\"] = bobot[indeks.index(j)]\n",
    "            df1.at[i, \"TOTAL_BOBOT\"] = df1.at[i, \"BOBOT\"] * df1.at[i, \"SKS\"]\n",
    "\n",
    "# fill null NILAI\n",
    "\n",
    "df1[\"NILAI\"] = df1[\"NILAI\"].fillna(0)\n",
    "df1[df1['NILAI'].isnull()]\n",
    "\n",
    "# dropping duplicate MK\n",
    "df1 = df1.drop_duplicates(subset=['KODE_MK', 'NIM'], keep='last')"
   ]
  },
  {
   "cell_type": "code",
   "execution_count": 4,
   "metadata": {},
   "outputs": [],
   "source": [
    "# Pembuataan Dataframe dengan grouping data berdasarkan NIM\n",
    "# Perhitungan SKS\n",
    "df3_ = pd.DataFrame(df1.groupby([\"NIM\"])[\"SKS\"].sum().reset_index())\n",
    "# Perhitungan Grade\n",
    "df3__ = pd.DataFrame(df1.loc[(df1[\"GRADE\"] == \"D\") | (df1[\"GRADE\"] == \"E\") | (df1[\"GRADE\"] == \"F\")].groupby(\"NIM\")[\"GRADE\"].sum().reset_index())\n",
    "# Perhitungan Total Bobot\n",
    "df3___ = pd.DataFrame((df1.groupby(\"NIM\")[\"TOTAL_BOBOT\"].sum().reset_index()))\n",
    "# Perhitungan jumlah semester\n",
    "df3____ =  pd.DataFrame((((df1.groupby(\"NIM\")[\"SEMESTER\"].max() - df1.groupby(\"NIM\")[\"SEMESTER\"].min()) / 100).reset_index()))\n",
    "# Penambahan Kolom Lulus Tepat Waktu \n",
    "\n",
    "# Merging Dataframe\n",
    "df3 = pd.merge(df3_, df3__, how=\"left\", on=[\"NIM\"])\n",
    "df3 = pd.merge(df3, df3___, how=\"left\", on=[\"NIM\"])\n",
    "df3 = pd.merge(df3, df3____, how=\"left\", on=[\"NIM\"])\n",
    "df3[\"GRADE\"] = df3[\"GRADE\"].fillna(\"\")\n",
    "\n",
    "df3.rename(columns = {\"GRADE\" : \"FAILED_GRADE\", \"SKS\" : \"TOTAL_SKS\", \"SEMESTER\" : \"WAKTU_KULIAH\"}, inplace = True)\n",
    "\n",
    "# Perhitungan IPK\n",
    "for i in df3.index:\n",
    "    df3.at[i ,\"IPK\"] = df3.at[i, \"TOTAL_BOBOT\"] / df3.at[i, \"TOTAL_SKS\"]\n",
    "    if df3.at[i, \"WAKTU_KULIAH\"] - int(df3.at[i, \"WAKTU_KULIAH\"]) != 0: \n",
    "        df3.at[i, \"WAKTU_KULIAH\"] = int(df3.at[i, \"WAKTU_KULIAH\"]) + 0.5\n",
    "\n",
    "# Kolom :\n",
    "# Hasil : TIDAK LULUS, LULUS, TEPAT WAKTU\n",
    "\n",
    "for i in df3.index:\n",
    "    if df3.at[i, \"TOTAL_SKS\"] >= 144 and df3.at[i, \"FAILED_GRADE\"] == \"\" and df3.at[i, \"IPK\"] >= 2.5:\n",
    "        # if df3.at[i, \"WAKTU_KULIAH\"] <= 4:\n",
    "        #     df3.at[i, \"HASIL\"] = \"Lulus Tepat Waktu\"\n",
    "        # else: \n",
    "        #     df3.at[i, \"HASIL\"] = \"Lulus Telat\"\n",
    "        df3.at[i, \"HASIL\"] = \"Lulus\"\n",
    "    else:  \n",
    "        df3.at[i, \"HASIL\"] = \"Tidak Lulus\""
   ]
  },
  {
   "cell_type": "markdown",
   "metadata": {},
   "source": [
    "## Df2 -> Df4"
   ]
  },
  {
   "cell_type": "code",
   "execution_count": 5,
   "metadata": {},
   "outputs": [],
   "source": [
    "# nilai rata-rata dari tiap matakuliah\n",
    "\n",
    "df4 = pd.DataFrame(df2.groupby([\"TAHUN\", \"MATAKULIAH\"])[\"NILAI\"].mean().reset_index())\n",
    "df4.rename(columns = {\"NILAI\" : \"NILAI_RATA-RATA\"}, inplace = True)\n"
   ]
  },
  {
   "cell_type": "markdown",
   "metadata": {},
   "source": [
    "# Modelling"
   ]
  },
  {
   "cell_type": "markdown",
   "metadata": {},
   "source": [
    "## Sampling and Data Splitting"
   ]
  },
  {
   "cell_type": "code",
   "execution_count": 6,
   "metadata": {},
   "outputs": [],
   "source": [
    "X = df3[['TOTAL_SKS', 'IPK', 'WAKTU_KULIAH']]\n",
    "y = df3['HASIL']"
   ]
  },
  {
   "cell_type": "code",
   "execution_count": 7,
   "metadata": {},
   "outputs": [
    {
     "data": {
      "image/png": "[encoded data removed]",
      "text/plain": [
       "<Figure size 432x288 with 1 Axes>"
      ]
     },
     "metadata": {
      "needs_background": "light"
     },
     "output_type": "display_data"
    }
   ],
   "source": [
    "rus = RandomUnderSampler()\n",
    "X_rus, y_rus = rus.fit_resample(X, y) \n",
    "\n",
    "y_rus.value_counts().plot(kind=\"bar\")\n",
    "\n",
    "# split dataset\n",
    "\n",
    "X_train, X_val, y_train, y_val = train_test_split(X_rus, y_rus, test_size=0.25, shuffle=True, random_state=42)"
   ]
  },
  {
   "cell_type": "markdown",
   "metadata": {},
   "source": [
    "## Model Evaluation"
   ]
  },
  {
   "cell_type": "code",
   "execution_count": 8,
   "metadata": {},
   "outputs": [
    {
     "name": "stdout",
     "output_type": "stream",
     "text": [
      "LR \t | cv_score_mean: 0.8708994708994708 \t | cv_score_std: 0.06455026455026454\n",
      "CART \t | cv_score_mean: 0.8193121693121693 \t | cv_score_std: 0.05793650793650793\n",
      "RF \t | cv_score_mean: 0.8227513227513228 \t | cv_score_std: 0.059544382100357146\n",
      "SVC \t | cv_score_mean: 0.7710317460317461 \t | cv_score_std: 0.05744594931782841\n",
      "KNN \t | cv_score_mean: 0.8562169312169312 \t | cv_score_std: 0.018650793650793637\n"
     ]
    }
   ],
   "source": [
    "np.random.seed(42)\n",
    "\n",
    "# spot-check algorithm\n",
    "models = [('LR', LogisticRegression()),\n",
    "         ('CART', DecisionTreeClassifier()),\n",
    "         ('RF', RandomForestClassifier()),\n",
    "         ('SVC', SVC()),\n",
    "         ('KNN', KNeighborsClassifier())]\n",
    "\n",
    "models_name = []\n",
    "results = []\n",
    "\n",
    "for name, model in models:\n",
    "    kfold = StratifiedKFold(n_splits=10, shuffle=True, random_state=42)\n",
    "    cv_score = cross_val_score(model, X_train, y_train, cv=kfold, scoring='accuracy')\n",
    "    models_name.append(name)\n",
    "    results.append(cv_score)\n",
    "    print(f'{name} \\t | cv_score_mean: {cv_score.mean()} \\t | cv_score_std: {cv_score.std()}')"
   ]
  },
  {
   "cell_type": "code",
   "execution_count": 9,
   "metadata": {},
   "outputs": [
    {
     "data": {
      "text/plain": [
       "<AxesSubplot:>"
      ]
     },
     "execution_count": 9,
     "metadata": {},
     "output_type": "execute_result"
    },
    {
     "data": {
      "image/png": "[encoded data removed]",
      "text/plain": [
       "<Figure size 504x432 with 1 Axes>"
      ]
     },
     "metadata": {
      "needs_background": "light"
     },
     "output_type": "display_data"
    }
   ],
   "source": [
    "# boxplot comparing models\n",
    "results_df = pd.DataFrame(np.asarray(results).T, columns=models_name)\n",
    "\n",
    "plt.figure(figsize=(7,6))\n",
    "sns.boxplot(data=results_df, palette='pastel')"
   ]
  },
  {
   "cell_type": "markdown",
   "metadata": {},
   "source": [
    "# Pertanyaan Soal\n",
    "1. Menemukan seberapa besar pengaruh mata kuliah yang diikuti dan atau kualitas dosen mata kulah untuk kelulusan tepat waktu mahasiswa.\n",
    "2. Menemukan seberapa besar pengaruh mata kuliah yang diikuti dan atau kualitas dosen mata kulah untuk kelulusan tepat waktu mahasiswa.\n",
    "3. Melakukan analisis dan faktor pengaruh kualitas dosen melalui pencapaian nilai akhir mahasiswa yang digunakan sebagai prediksi terhadap kelulusan tepat waktu mahasiswa,\n",
    "4. Melakukan analisis dan menetapkan penemuan faktor-faktor yang sangat berpengaruh terhadap waktu studi mahasiswa dan kesimpulan dari prediksi pengaruh kualitas dosen terhadap kelulusan mahasiswa tepat waktu\n"
   ]
  },
  {
   "cell_type": "markdown",
   "metadata": {},
   "source": [
    "# Modeling ketepatan waktu lulus"
   ]
  },
  {
   "cell_type": "code",
   "execution_count": 33,
   "metadata": {},
   "outputs": [
    {
     "data": {
      "text/html": [
       "<div>\n",
       "<style scoped>\n",
       "    .dataframe tbody tr th:only-of-type {\n",
       "        vertical-align: middle;\n",
       "    }\n",
       "\n",
       "    .dataframe tbody tr th {\n",
       "        vertical-align: top;\n",
       "    }\n",
       "\n",
       "    .dataframe thead th {\n",
       "        text-align: right;\n",
       "    }\n",
       "</style>\n",
       "<table border=\"1\" class=\"dataframe\">\n",
       "  <thead>\n",
       "    <tr style=\"text-align: right;\">\n",
       "      <th></th>\n",
       "      <th>index</th>\n",
       "      <th>NIM</th>\n",
       "      <th>TOTAL_SKS</th>\n",
       "      <th>FAILED_GRADE</th>\n",
       "      <th>TOTAL_BOBOT</th>\n",
       "      <th>WAKTU_KULIAH</th>\n",
       "      <th>IPK</th>\n",
       "      <th>HASIL</th>\n",
       "    </tr>\n",
       "  </thead>\n",
       "  <tbody>\n",
       "    <tr>\n",
       "      <th>0</th>\n",
       "      <td>3</td>\n",
       "      <td>00000008631</td>\n",
       "      <td>145</td>\n",
       "      <td></td>\n",
       "      <td>519.3</td>\n",
       "      <td>3.0</td>\n",
       "      <td>3.581379</td>\n",
       "      <td>Lulus</td>\n",
       "    </tr>\n",
       "    <tr>\n",
       "      <th>1</th>\n",
       "      <td>4</td>\n",
       "      <td>00000008684</td>\n",
       "      <td>145</td>\n",
       "      <td></td>\n",
       "      <td>512.1</td>\n",
       "      <td>3.0</td>\n",
       "      <td>3.531724</td>\n",
       "      <td>Lulus</td>\n",
       "    </tr>\n",
       "    <tr>\n",
       "      <th>2</th>\n",
       "      <td>10</td>\n",
       "      <td>00000009139</td>\n",
       "      <td>145</td>\n",
       "      <td></td>\n",
       "      <td>541.3</td>\n",
       "      <td>3.5</td>\n",
       "      <td>3.733103</td>\n",
       "      <td>Lulus</td>\n",
       "    </tr>\n",
       "    <tr>\n",
       "      <th>3</th>\n",
       "      <td>12</td>\n",
       "      <td>00000009252</td>\n",
       "      <td>145</td>\n",
       "      <td></td>\n",
       "      <td>496.5</td>\n",
       "      <td>3.5</td>\n",
       "      <td>3.424138</td>\n",
       "      <td>Lulus</td>\n",
       "    </tr>\n",
       "    <tr>\n",
       "      <th>4</th>\n",
       "      <td>13</td>\n",
       "      <td>00000009253</td>\n",
       "      <td>145</td>\n",
       "      <td></td>\n",
       "      <td>572.8</td>\n",
       "      <td>3.5</td>\n",
       "      <td>3.950345</td>\n",
       "      <td>Lulus</td>\n",
       "    </tr>\n",
       "    <tr>\n",
       "      <th>...</th>\n",
       "      <td>...</td>\n",
       "      <td>...</td>\n",
       "      <td>...</td>\n",
       "      <td>...</td>\n",
       "      <td>...</td>\n",
       "      <td>...</td>\n",
       "      <td>...</td>\n",
       "      <td>...</td>\n",
       "    </tr>\n",
       "    <tr>\n",
       "      <th>176</th>\n",
       "      <td>745</td>\n",
       "      <td>14110310069</td>\n",
       "      <td>145</td>\n",
       "      <td></td>\n",
       "      <td>513.0</td>\n",
       "      <td>3.5</td>\n",
       "      <td>3.537931</td>\n",
       "      <td>Lulus</td>\n",
       "    </tr>\n",
       "    <tr>\n",
       "      <th>177</th>\n",
       "      <td>749</td>\n",
       "      <td>14110310073</td>\n",
       "      <td>145</td>\n",
       "      <td></td>\n",
       "      <td>565.9</td>\n",
       "      <td>3.5</td>\n",
       "      <td>3.902759</td>\n",
       "      <td>Lulus</td>\n",
       "    </tr>\n",
       "    <tr>\n",
       "      <th>178</th>\n",
       "      <td>750</td>\n",
       "      <td>14110310074</td>\n",
       "      <td>145</td>\n",
       "      <td></td>\n",
       "      <td>528.0</td>\n",
       "      <td>3.5</td>\n",
       "      <td>3.641379</td>\n",
       "      <td>Lulus</td>\n",
       "    </tr>\n",
       "    <tr>\n",
       "      <th>179</th>\n",
       "      <td>756</td>\n",
       "      <td>14110310085</td>\n",
       "      <td>145</td>\n",
       "      <td></td>\n",
       "      <td>481.5</td>\n",
       "      <td>3.5</td>\n",
       "      <td>3.320690</td>\n",
       "      <td>Lulus</td>\n",
       "    </tr>\n",
       "    <tr>\n",
       "      <th>180</th>\n",
       "      <td>757</td>\n",
       "      <td>14110310086</td>\n",
       "      <td>145</td>\n",
       "      <td></td>\n",
       "      <td>538.2</td>\n",
       "      <td>3.5</td>\n",
       "      <td>3.711724</td>\n",
       "      <td>Lulus</td>\n",
       "    </tr>\n",
       "  </tbody>\n",
       "</table>\n",
       "<p>181 rows × 8 columns</p>\n",
       "</div>"
      ],
      "text/plain": [
       "     index          NIM  TOTAL_SKS FAILED_GRADE  TOTAL_BOBOT  WAKTU_KULIAH  \\\n",
       "0        3  00000008631        145                     519.3           3.0   \n",
       "1        4  00000008684        145                     512.1           3.0   \n",
       "2       10  00000009139        145                     541.3           3.5   \n",
       "3       12  00000009252        145                     496.5           3.5   \n",
       "4       13  00000009253        145                     572.8           3.5   \n",
       "..     ...          ...        ...          ...          ...           ...   \n",
       "176    745  14110310069        145                     513.0           3.5   \n",
       "177    749  14110310073        145                     565.9           3.5   \n",
       "178    750  14110310074        145                     528.0           3.5   \n",
       "179    756  14110310085        145                     481.5           3.5   \n",
       "180    757  14110310086        145                     538.2           3.5   \n",
       "\n",
       "          IPK  HASIL  \n",
       "0    3.581379  Lulus  \n",
       "1    3.531724  Lulus  \n",
       "2    3.733103  Lulus  \n",
       "3    3.424138  Lulus  \n",
       "4    3.950345  Lulus  \n",
       "..        ...    ...  \n",
       "176  3.537931  Lulus  \n",
       "177  3.902759  Lulus  \n",
       "178  3.641379  Lulus  \n",
       "179  3.320690  Lulus  \n",
       "180  3.711724  Lulus  \n",
       "\n",
       "[181 rows x 8 columns]"
      ]
     },
     "execution_count": 33,
     "metadata": {},
     "output_type": "execute_result"
    }
   ],
   "source": [
    "df5 = df3[df3['HASIL'] == 'Lulus'].reset_index()\n",
    "df5"
   ]
  },
  {
   "cell_type": "code",
   "execution_count": 36,
   "metadata": {},
   "outputs": [
    {
     "data": {
      "text/html": [
       "<div>\n",
       "<style scoped>\n",
       "    .dataframe tbody tr th:only-of-type {\n",
       "        vertical-align: middle;\n",
       "    }\n",
       "\n",
       "    .dataframe tbody tr th {\n",
       "        vertical-align: top;\n",
       "    }\n",
       "\n",
       "    .dataframe thead th {\n",
       "        text-align: right;\n",
       "    }\n",
       "</style>\n",
       "<table border=\"1\" class=\"dataframe\">\n",
       "  <thead>\n",
       "    <tr style=\"text-align: right;\">\n",
       "      <th></th>\n",
       "      <th>index</th>\n",
       "      <th>NIM</th>\n",
       "      <th>TOTAL_SKS</th>\n",
       "      <th>FAILED_GRADE</th>\n",
       "      <th>TOTAL_BOBOT</th>\n",
       "      <th>WAKTU_KULIAH</th>\n",
       "      <th>IPK</th>\n",
       "      <th>HASIL</th>\n",
       "      <th>TIPE</th>\n",
       "    </tr>\n",
       "  </thead>\n",
       "  <tbody>\n",
       "    <tr>\n",
       "      <th>50</th>\n",
       "      <td>483</td>\n",
       "      <td>10110310070</td>\n",
       "      <td>145</td>\n",
       "      <td></td>\n",
       "      <td>448.9</td>\n",
       "      <td>4.5</td>\n",
       "      <td>3.095862</td>\n",
       "      <td>Lulus</td>\n",
       "      <td>Telat</td>\n",
       "    </tr>\n",
       "    <tr>\n",
       "      <th>178</th>\n",
       "      <td>750</td>\n",
       "      <td>14110310074</td>\n",
       "      <td>145</td>\n",
       "      <td></td>\n",
       "      <td>528.0</td>\n",
       "      <td>3.5</td>\n",
       "      <td>3.641379</td>\n",
       "      <td>Lulus</td>\n",
       "      <td>Tepat Waktu</td>\n",
       "    </tr>\n",
       "    <tr>\n",
       "      <th>64</th>\n",
       "      <td>504</td>\n",
       "      <td>11110310009</td>\n",
       "      <td>145</td>\n",
       "      <td></td>\n",
       "      <td>531.1</td>\n",
       "      <td>3.0</td>\n",
       "      <td>3.662759</td>\n",
       "      <td>Lulus</td>\n",
       "      <td>Tepat Waktu</td>\n",
       "    </tr>\n",
       "    <tr>\n",
       "      <th>111</th>\n",
       "      <td>598</td>\n",
       "      <td>12110310055</td>\n",
       "      <td>145</td>\n",
       "      <td></td>\n",
       "      <td>490.1</td>\n",
       "      <td>3.5</td>\n",
       "      <td>3.380000</td>\n",
       "      <td>Lulus</td>\n",
       "      <td>Tepat Waktu</td>\n",
       "    </tr>\n",
       "    <tr>\n",
       "      <th>171</th>\n",
       "      <td>720</td>\n",
       "      <td>14110310041</td>\n",
       "      <td>145</td>\n",
       "      <td></td>\n",
       "      <td>470.1</td>\n",
       "      <td>4.0</td>\n",
       "      <td>3.242069</td>\n",
       "      <td>Lulus</td>\n",
       "      <td>Tepat Waktu</td>\n",
       "    </tr>\n",
       "    <tr>\n",
       "      <th>69</th>\n",
       "      <td>511</td>\n",
       "      <td>11110310018</td>\n",
       "      <td>145</td>\n",
       "      <td></td>\n",
       "      <td>491.2</td>\n",
       "      <td>3.5</td>\n",
       "      <td>3.387586</td>\n",
       "      <td>Lulus</td>\n",
       "      <td>Tepat Waktu</td>\n",
       "    </tr>\n",
       "    <tr>\n",
       "      <th>75</th>\n",
       "      <td>522</td>\n",
       "      <td>11110310034</td>\n",
       "      <td>145</td>\n",
       "      <td></td>\n",
       "      <td>520.0</td>\n",
       "      <td>3.5</td>\n",
       "      <td>3.586207</td>\n",
       "      <td>Lulus</td>\n",
       "      <td>Tepat Waktu</td>\n",
       "    </tr>\n",
       "    <tr>\n",
       "      <th>156</th>\n",
       "      <td>685</td>\n",
       "      <td>14110310004</td>\n",
       "      <td>145</td>\n",
       "      <td></td>\n",
       "      <td>543.1</td>\n",
       "      <td>3.5</td>\n",
       "      <td>3.745517</td>\n",
       "      <td>Lulus</td>\n",
       "      <td>Tepat Waktu</td>\n",
       "    </tr>\n",
       "    <tr>\n",
       "      <th>84</th>\n",
       "      <td>546</td>\n",
       "      <td>11110310068</td>\n",
       "      <td>145</td>\n",
       "      <td></td>\n",
       "      <td>511.8</td>\n",
       "      <td>3.5</td>\n",
       "      <td>3.529655</td>\n",
       "      <td>Lulus</td>\n",
       "      <td>Tepat Waktu</td>\n",
       "    </tr>\n",
       "    <tr>\n",
       "      <th>19</th>\n",
       "      <td>78</td>\n",
       "      <td>00000011943</td>\n",
       "      <td>145</td>\n",
       "      <td></td>\n",
       "      <td>494.7</td>\n",
       "      <td>3.0</td>\n",
       "      <td>3.411724</td>\n",
       "      <td>Lulus</td>\n",
       "      <td>Tepat Waktu</td>\n",
       "    </tr>\n",
       "  </tbody>\n",
       "</table>\n",
       "</div>"
      ],
      "text/plain": [
       "     index          NIM  TOTAL_SKS FAILED_GRADE  TOTAL_BOBOT  WAKTU_KULIAH  \\\n",
       "50     483  10110310070        145                     448.9           4.5   \n",
       "178    750  14110310074        145                     528.0           3.5   \n",
       "64     504  11110310009        145                     531.1           3.0   \n",
       "111    598  12110310055        145                     490.1           3.5   \n",
       "171    720  14110310041        145                     470.1           4.0   \n",
       "69     511  11110310018        145                     491.2           3.5   \n",
       "75     522  11110310034        145                     520.0           3.5   \n",
       "156    685  14110310004        145                     543.1           3.5   \n",
       "84     546  11110310068        145                     511.8           3.5   \n",
       "19      78  00000011943        145                     494.7           3.0   \n",
       "\n",
       "          IPK  HASIL         TIPE  \n",
       "50   3.095862  Lulus        Telat  \n",
       "178  3.641379  Lulus  Tepat Waktu  \n",
       "64   3.662759  Lulus  Tepat Waktu  \n",
       "111  3.380000  Lulus  Tepat Waktu  \n",
       "171  3.242069  Lulus  Tepat Waktu  \n",
       "69   3.387586  Lulus  Tepat Waktu  \n",
       "75   3.586207  Lulus  Tepat Waktu  \n",
       "156  3.745517  Lulus  Tepat Waktu  \n",
       "84   3.529655  Lulus  Tepat Waktu  \n",
       "19   3.411724  Lulus  Tepat Waktu  "
      ]
     },
     "execution_count": 36,
     "metadata": {},
     "output_type": "execute_result"
    }
   ],
   "source": [
    "# menambahkan kolom jenis kelulusan\n",
    "\n",
    "for i in range(len(df5)):\n",
    "    if df5.loc[i, 'WAKTU_KULIAH'] <= 4:\n",
    "        df5.loc[i, 'TIPE'] = 'Tepat Waktu'\n",
    "    else:\n",
    "        df5.loc[i, 'TIPE'] = 'Telat'\n",
    "        \n",
    "df5.sample(10)"
   ]
  },
  {
   "cell_type": "code",
   "execution_count": 39,
   "metadata": {},
   "outputs": [
    {
     "data": {
      "image/png": "[encoded data removed]",
      "text/plain": [
       "<Figure size 432x288 with 1 Axes>"
      ]
     },
     "metadata": {
      "needs_background": "light"
     },
     "output_type": "display_data"
    }
   ],
   "source": [
    "df5['TIPE'].value_counts().plot(kind='bar', width=0.4)\n",
    "plt.xticks(rotation=0)\n",
    "plt.title('Jumlah Jenis Kelulusan Mahasiswa')\n",
    "plt.show()"
   ]
  },
  {
   "cell_type": "code",
   "execution_count": 41,
   "metadata": {},
   "outputs": [],
   "source": [
    "X = df5[['TOTAL_SKS', 'IPK', 'WAKTU_KULIAH']]\n",
    "y = df5['TIPE']"
   ]
  },
  {
   "cell_type": "code",
   "execution_count": 42,
   "metadata": {},
   "outputs": [
    {
     "data": {
      "image/png": "[encoded data removed]",
      "text/plain": [
       "<Figure size 432x288 with 1 Axes>"
      ]
     },
     "metadata": {
      "needs_background": "light"
     },
     "output_type": "display_data"
    }
   ],
   "source": [
    "rus = RandomUnderSampler()\n",
    "X_rus, y_rus = rus.fit_resample(X, y) \n",
    "\n",
    "y_rus.value_counts().plot(kind=\"bar\", width=0.4)\n",
    "plt.xticks(rotation=0)\n",
    "\n",
    "# split dataset\n",
    "\n",
    "X_train, X_val, y_train, y_val = train_test_split(X_rus, y_rus, test_size=0.25, shuffle=True, random_state=42)"
   ]
  },
  {
   "cell_type": "code",
   "execution_count": 49,
   "metadata": {},
   "outputs": [
    {
     "name": "stdout",
     "output_type": "stream",
     "text": [
      "LR \t | cv_score_mean: 1.0 \t | cv_score_std: 0.0\n",
      "CART \t | cv_score_mean: 1.0 \t | cv_score_std: 0.0\n",
      "RF \t | cv_score_mean: 1.0 \t | cv_score_std: 0.0\n",
      "SVC \t | cv_score_mean: 0.611111111111111 \t | cv_score_std: 0.0785674201318386\n",
      "KNN \t | cv_score_mean: 0.5 \t | cv_score_std: 0.13608276348795434\n"
     ]
    }
   ],
   "source": [
    "np.random.seed(42)\n",
    "\n",
    "# spot-check algorithm\n",
    "models = [('LR', LogisticRegression()),\n",
    "         ('CART', DecisionTreeClassifier()),\n",
    "         ('RF', RandomForestClassifier()),\n",
    "         ('SVC', SVC()),\n",
    "         ('KNN', KNeighborsClassifier())]\n",
    "\n",
    "models_name = []\n",
    "results = []\n",
    "\n",
    "for name, model in models:\n",
    "    kfold = StratifiedKFold(n_splits=3, shuffle=True, random_state=42)\n",
    "    cv_score = cross_val_score(model, X_train, y_train, cv=kfold, scoring='accuracy')\n",
    "    models_name.append(name)\n",
    "    results.append(cv_score)\n",
    "    print(f'{name} \\t | cv_score_mean: {cv_score.mean()} \\t | cv_score_std: {cv_score.std()}')"
   ]
  },
  {
   "cell_type": "code",
   "execution_count": 46,
   "metadata": {},
   "outputs": [
    {
     "data": {
      "text/plain": [
       "<AxesSubplot:>"
      ]
     },
     "execution_count": 46,
     "metadata": {},
     "output_type": "execute_result"
    },
    {
     "data": {
      "image/png": "[encoded data removed]",
      "text/plain": [
       "<Figure size 504x432 with 1 Axes>"
      ]
     },
     "metadata": {
      "needs_background": "light"
     },
     "output_type": "display_data"
    }
   ],
   "source": [
    "# boxplot comparing models\n",
    "results_df = pd.DataFrame(np.asarray(results).T, columns=models_name)\n",
    "\n",
    "plt.figure(figsize=(7,6))\n",
    "sns.boxplot(data=results_df, palette='pastel')"
   ]
  },
  {
   "cell_type": "code",
   "execution_count": null,
   "metadata": {},
   "outputs": [],
   "source": []
  }
 ],
 "metadata": {
  "kernelspec": {
   "display_name": "Python 3.8.2 ('base')",
   "language": "python",
   "name": "python3"
  },
  "language_info": {
   "codemirror_mode": {
    "name": "ipython",
    "version": 3
   },
   "file_extension": ".py",
   "mimetype": "text/x-python",
   "name": "python",
   "nbconvert_exporter": "python",
   "pygments_lexer": "ipython3",
   "version": "3.8.2"
  },
  "orig_nbformat": 4,
  "vscode": {
   "interpreter": {
    "hash": "40d3a090f54c6569ab1632332b64b2c03c39dcf918b08424e98f38b5ae0af88f"
   }
  }
 },
 "nbformat": 4,
 "nbformat_minor": 2
}
