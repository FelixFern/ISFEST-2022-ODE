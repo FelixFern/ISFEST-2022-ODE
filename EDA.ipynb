{
 "cells": [
  {
   "cell_type": "markdown",
   "metadata": {},
   "source": [
    "# Setup"
   ]
  },
  {
   "cell_type": "code",
   "execution_count": 1,
   "metadata": {
    "ExecuteTime": {
     "end_time": "2022-06-01T08:10:00.857167Z",
     "start_time": "2022-06-01T08:09:58.172180Z"
    }
   },
   "outputs": [],
   "source": [
    "import matplotlib.pyplot as plt\n",
    "import pandas as pd \n",
    "import numpy as np\n",
    "import seaborn as sns\n",
    "from sklearn.model_selection import train_test_split\n",
    "from sklearn.model_selection import StratifiedKFold\n",
    "from sklearn.model_selection import cross_val_score\n",
    "from sklearn.linear_model import LogisticRegression\n",
    "from sklearn.tree import DecisionTreeClassifier\n",
    "from sklearn.ensemble import RandomForestClassifier\n",
    "from sklearn.metrics import accuracy_score\n",
    "from sklearn.metrics import confusion_matrix\n",
    "from sklearn.metrics import classification_report"
   ]
  },
  {
   "cell_type": "code",
   "execution_count": 2,
   "metadata": {
    "ExecuteTime": {
     "end_time": "2022-06-01T08:10:00.959836Z",
     "start_time": "2022-06-01T08:10:00.859919Z"
    }
   },
   "outputs": [],
   "source": [
    "df1 = pd.read_csv(\"Dataset1_TranscriptMahasiswa.csv\", sep=\";\", dtype={\"NIM\" :\"object\", \"NAMA_MK\" : \"string\"})\n",
    "df2 = pd.read_csv(\"Dataset2_EvaluasiDosenPerMK.csv\", sep=\";\", decimal=\",\")"
   ]
  },
  {
   "cell_type": "code",
   "execution_count": 3,
   "metadata": {
    "ExecuteTime": {
     "end_time": "2022-06-01T08:10:00.973965Z",
     "start_time": "2022-06-01T08:10:00.963232Z"
    },
    "scrolled": true
   },
   "outputs": [
    {
     "data": {
      "text/plain": [
       "770"
      ]
     },
     "execution_count": 3,
     "metadata": {},
     "output_type": "execute_result"
    }
   ],
   "source": [
    "# Banyak Mahasiswa\n",
    "df1[\"NIM\"].nunique()"
   ]
  },
  {
   "cell_type": "code",
   "execution_count": 4,
   "metadata": {
    "ExecuteTime": {
     "end_time": "2022-06-01T08:10:00.999525Z",
     "start_time": "2022-06-01T08:10:00.982889Z"
    }
   },
   "outputs": [
    {
     "name": "stdout",
     "output_type": "stream",
     "text": [
      "<class 'pandas.core.frame.DataFrame'>\n",
      "RangeIndex: 30870 entries, 0 to 30869\n",
      "Data columns (total 8 columns):\n",
      " #   Column    Non-Null Count  Dtype  \n",
      "---  ------    --------------  -----  \n",
      " 0   NIM       30870 non-null  object \n",
      " 1   ANGKATAN  30870 non-null  int64  \n",
      " 2   SEMESTER  30870 non-null  int64  \n",
      " 3   KODE_MK   30870 non-null  object \n",
      " 4   NAMA_MK   30847 non-null  string \n",
      " 5   SKS       30870 non-null  int64  \n",
      " 6   NILAI     30858 non-null  float64\n",
      " 7   GRADE     30318 non-null  object \n",
      "dtypes: float64(1), int64(3), object(3), string(1)\n",
      "memory usage: 1.9+ MB\n"
     ]
    }
   ],
   "source": [
    "df1.info()"
   ]
  },
  {
   "cell_type": "markdown",
   "metadata": {},
   "source": [
    "Ada Nama_MK yang null, Nilai, dan Grade yang null"
   ]
  },
  {
   "cell_type": "code",
   "execution_count": 5,
   "metadata": {
    "ExecuteTime": {
     "end_time": "2022-06-01T08:10:01.030348Z",
     "start_time": "2022-06-01T08:10:01.005098Z"
    }
   },
   "outputs": [
    {
     "name": "stdout",
     "output_type": "stream",
     "text": [
      "<class 'pandas.core.frame.DataFrame'>\n",
      "RangeIndex: 2114 entries, 0 to 2113\n",
      "Data columns (total 6 columns):\n",
      " #   Column      Non-Null Count  Dtype  \n",
      "---  ------      --------------  -----  \n",
      " 0   TAHUN       2114 non-null   int64  \n",
      " 1   SEMESTER    2114 non-null   int64  \n",
      " 2   MATAKULIAH  2114 non-null   object \n",
      " 3   PERTANYAAN  2114 non-null   int64  \n",
      " 4   KETERANGAN  2114 non-null   object \n",
      " 5   NILAI       2114 non-null   float64\n",
      "dtypes: float64(1), int64(3), object(2)\n",
      "memory usage: 99.2+ KB\n"
     ]
    }
   ],
   "source": [
    "df2.info()"
   ]
  },
  {
   "cell_type": "markdown",
   "metadata": {},
   "source": [
    "Tidak ada null"
   ]
  },
  {
   "cell_type": "markdown",
   "metadata": {},
   "source": [
    "# Data Cleansing"
   ]
  },
  {
   "cell_type": "markdown",
   "metadata": {},
   "source": [
    "**Dataframe 1 (Transkrip Mahasiswa)**"
   ]
  },
  {
   "cell_type": "code",
   "execution_count": 6,
   "metadata": {},
   "outputs": [
    {
     "data": {
      "text/plain": [
       "<AxesSubplot:>"
      ]
     },
     "execution_count": 6,
     "metadata": {},
     "output_type": "execute_result"
    },
    {
     "data": {
      "image/png": "[encoded data removed]",
      "text/plain": [
       "<Figure size 432x288 with 1 Axes>"
      ]
     },
     "metadata": {
      "needs_background": "light"
     },
     "output_type": "display_data"
    }
   ],
   "source": [
    "sns.heatmap(df1.isnull(), cbar=False)"
   ]
  },
  {
   "cell_type": "code",
   "execution_count": 7,
   "metadata": {
    "ExecuteTime": {
     "end_time": "2022-06-01T08:10:01.043220Z",
     "start_time": "2022-06-01T08:10:01.034406Z"
    }
   },
   "outputs": [
    {
     "data": {
      "text/plain": [
       "array(['SI863'], dtype=object)"
      ]
     },
     "execution_count": 7,
     "metadata": {},
     "output_type": "execute_result"
    }
   ],
   "source": [
    "# check Kode_MK dari Nama_MK yang null\n",
    "\n",
    "df1['KODE_MK'][df1['NAMA_MK'].isnull()].unique()"
   ]
  },
  {
   "cell_type": "code",
   "execution_count": 8,
   "metadata": {
    "ExecuteTime": {
     "end_time": "2022-06-01T08:10:02.000063Z",
     "start_time": "2022-06-01T08:10:01.045306Z"
    }
   },
   "outputs": [],
   "source": [
    "# fill Nama_MK yang null\n",
    "\n",
    "df1[\"NAMA_MK\"] = df1[\"NAMA_MK\"].fillna(\"Tugas Akhir\") # Kebetulan yang null cuman SI863\n",
    "\n",
    "# add kode MK ke Nama_MK\n",
    "\n",
    "for i in df1.index:  \n",
    "    if df1.at[i, \"KODE_MK\"] not in df1.at[i, \"NAMA_MK\"].split(\" \") : \n",
    "        df1.at[i, \"NAMA_MK\"] = df1.at[i, \"KODE_MK\"] + \" \" + df1.at[i, \"NAMA_MK\"]"
   ]
  },
  {
   "cell_type": "code",
   "execution_count": 9,
   "metadata": {
    "ExecuteTime": {
     "end_time": "2022-06-01T08:10:05.449617Z",
     "start_time": "2022-06-01T08:10:02.005378Z"
    }
   },
   "outputs": [],
   "source": [
    "indeks = [\"A\", \"A-\", \"B+\", \"B\", \"B-\", \"C+\", \"C\", \"D\", \"E\", \"F\"]\n",
    "bobot = [4, 3.7, 3.3, 3.0, 2.7, 2.3, 2.0, 1.0, 0, 0]\n",
    "ranges = [[100, 85], [84.99, 80], [79.99, 75], [74.99, 70], [69.99, 65], [64.99, 60], [59.99, 55], [54.99, 45], [44.99,0]]\n",
    "\n",
    "# fill grade yang null\n",
    "\n",
    "for i in df1.index:\n",
    "    for j in ranges:\n",
    "        if j[1] <= df1.at[i, \"NILAI\"] <= j[0]:\n",
    "            df1.at[i, \"GRADE\"] = indeks[ranges.index(j)]\n",
    "\n",
    "# menambah total bobot = bobot x sks\n",
    "\n",
    "for i in df1.index:\n",
    "    for j in indeks:\n",
    "        if df1.at[i, \"GRADE\"] == j:\n",
    "            df1.at[i, \"BOBOT\"] = bobot[indeks.index(j)]\n",
    "            df1.at[i, \"TOTAL_BOBOT\"] = df1.at[i, \"BOBOT\"] * df1.at[i, \"SKS\"]"
   ]
  },
  {
   "cell_type": "code",
   "execution_count": 10,
   "metadata": {
    "ExecuteTime": {
     "end_time": "2022-06-01T08:10:05.490799Z",
     "start_time": "2022-06-01T08:10:05.453313Z"
    },
    "scrolled": true
   },
   "outputs": [
    {
     "data": {
      "text/html": [
       "<div>\n",
       "<style scoped>\n",
       "    .dataframe tbody tr th:only-of-type {\n",
       "        vertical-align: middle;\n",
       "    }\n",
       "\n",
       "    .dataframe tbody tr th {\n",
       "        vertical-align: top;\n",
       "    }\n",
       "\n",
       "    .dataframe thead th {\n",
       "        text-align: right;\n",
       "    }\n",
       "</style>\n",
       "<table border=\"1\" class=\"dataframe\">\n",
       "  <thead>\n",
       "    <tr style=\"text-align: right;\">\n",
       "      <th></th>\n",
       "      <th>NIM</th>\n",
       "      <th>ANGKATAN</th>\n",
       "      <th>SEMESTER</th>\n",
       "      <th>KODE_MK</th>\n",
       "      <th>NAMA_MK</th>\n",
       "      <th>SKS</th>\n",
       "      <th>NILAI</th>\n",
       "      <th>GRADE</th>\n",
       "      <th>BOBOT</th>\n",
       "      <th>TOTAL_BOBOT</th>\n",
       "    </tr>\n",
       "  </thead>\n",
       "  <tbody>\n",
       "    <tr>\n",
       "      <th>0</th>\n",
       "      <td>10110310002</td>\n",
       "      <td>2010</td>\n",
       "      <td>1011</td>\n",
       "      <td>EM100</td>\n",
       "      <td>EM100 Dasar-dasar Bisnis</td>\n",
       "      <td>3</td>\n",
       "      <td>57.0</td>\n",
       "      <td>C</td>\n",
       "      <td>2.0</td>\n",
       "      <td>6.0</td>\n",
       "    </tr>\n",
       "    <tr>\n",
       "      <th>1</th>\n",
       "      <td>10110310002</td>\n",
       "      <td>2010</td>\n",
       "      <td>1011</td>\n",
       "      <td>EM180</td>\n",
       "      <td>EM180 Matematika Bisnis</td>\n",
       "      <td>3</td>\n",
       "      <td>70.0</td>\n",
       "      <td>B</td>\n",
       "      <td>3.0</td>\n",
       "      <td>9.0</td>\n",
       "    </tr>\n",
       "    <tr>\n",
       "      <th>2</th>\n",
       "      <td>10110310002</td>\n",
       "      <td>2010</td>\n",
       "      <td>1011</td>\n",
       "      <td>TI100</td>\n",
       "      <td>TI100 Algoritma dan Pemrograman</td>\n",
       "      <td>4</td>\n",
       "      <td>57.0</td>\n",
       "      <td>C</td>\n",
       "      <td>2.0</td>\n",
       "      <td>8.0</td>\n",
       "    </tr>\n",
       "    <tr>\n",
       "      <th>3</th>\n",
       "      <td>10110310002</td>\n",
       "      <td>2010</td>\n",
       "      <td>1011</td>\n",
       "      <td>TI101</td>\n",
       "      <td>TI101 Matematika Diskrit</td>\n",
       "      <td>3</td>\n",
       "      <td>59.0</td>\n",
       "      <td>C</td>\n",
       "      <td>2.0</td>\n",
       "      <td>6.0</td>\n",
       "    </tr>\n",
       "    <tr>\n",
       "      <th>4</th>\n",
       "      <td>10110310002</td>\n",
       "      <td>2010</td>\n",
       "      <td>1011</td>\n",
       "      <td>TI110</td>\n",
       "      <td>TI110 Pengantar Teknologi Multimedia</td>\n",
       "      <td>3</td>\n",
       "      <td>74.0</td>\n",
       "      <td>B</td>\n",
       "      <td>3.0</td>\n",
       "      <td>9.0</td>\n",
       "    </tr>\n",
       "  </tbody>\n",
       "</table>\n",
       "</div>"
      ],
      "text/plain": [
       "           NIM  ANGKATAN  SEMESTER KODE_MK  \\\n",
       "0  10110310002      2010      1011   EM100   \n",
       "1  10110310002      2010      1011   EM180   \n",
       "2  10110310002      2010      1011   TI100   \n",
       "3  10110310002      2010      1011   TI101   \n",
       "4  10110310002      2010      1011   TI110   \n",
       "\n",
       "                                NAMA_MK  SKS  NILAI GRADE  BOBOT  TOTAL_BOBOT  \n",
       "0              EM100 Dasar-dasar Bisnis    3   57.0     C    2.0          6.0  \n",
       "1               EM180 Matematika Bisnis    3   70.0     B    3.0          9.0  \n",
       "2       TI100 Algoritma dan Pemrograman    4   57.0     C    2.0          8.0  \n",
       "3              TI101 Matematika Diskrit    3   59.0     C    2.0          6.0  \n",
       "4  TI110 Pengantar Teknologi Multimedia    3   74.0     B    3.0          9.0  "
      ]
     },
     "execution_count": 10,
     "metadata": {},
     "output_type": "execute_result"
    }
   ],
   "source": [
    "df1.head()"
   ]
  },
  {
   "cell_type": "code",
   "execution_count": 11,
   "metadata": {
    "ExecuteTime": {
     "end_time": "2022-06-01T08:10:05.509529Z",
     "start_time": "2022-06-01T08:10:05.492592Z"
    }
   },
   "outputs": [
    {
     "data": {
      "text/html": [
       "<div>\n",
       "<style scoped>\n",
       "    .dataframe tbody tr th:only-of-type {\n",
       "        vertical-align: middle;\n",
       "    }\n",
       "\n",
       "    .dataframe tbody tr th {\n",
       "        vertical-align: top;\n",
       "    }\n",
       "\n",
       "    .dataframe thead th {\n",
       "        text-align: right;\n",
       "    }\n",
       "</style>\n",
       "<table border=\"1\" class=\"dataframe\">\n",
       "  <thead>\n",
       "    <tr style=\"text-align: right;\">\n",
       "      <th></th>\n",
       "      <th>NIM</th>\n",
       "      <th>ANGKATAN</th>\n",
       "      <th>SEMESTER</th>\n",
       "      <th>KODE_MK</th>\n",
       "      <th>NAMA_MK</th>\n",
       "      <th>SKS</th>\n",
       "      <th>NILAI</th>\n",
       "      <th>GRADE</th>\n",
       "      <th>BOBOT</th>\n",
       "      <th>TOTAL_BOBOT</th>\n",
       "    </tr>\n",
       "  </thead>\n",
       "  <tbody>\n",
       "  </tbody>\n",
       "</table>\n",
       "</div>"
      ],
      "text/plain": [
       "Empty DataFrame\n",
       "Columns: [NIM, ANGKATAN, SEMESTER, KODE_MK, NAMA_MK, SKS, NILAI, GRADE, BOBOT, TOTAL_BOBOT]\n",
       "Index: []"
      ]
     },
     "execution_count": 11,
     "metadata": {},
     "output_type": "execute_result"
    }
   ],
   "source": [
    "df1[df1['GRADE'].isnull()]"
   ]
  },
  {
   "cell_type": "code",
   "execution_count": 12,
   "metadata": {
    "ExecuteTime": {
     "end_time": "2022-06-01T08:10:05.534656Z",
     "start_time": "2022-06-01T08:10:05.511736Z"
    }
   },
   "outputs": [
    {
     "data": {
      "text/html": [
       "<div>\n",
       "<style scoped>\n",
       "    .dataframe tbody tr th:only-of-type {\n",
       "        vertical-align: middle;\n",
       "    }\n",
       "\n",
       "    .dataframe tbody tr th {\n",
       "        vertical-align: top;\n",
       "    }\n",
       "\n",
       "    .dataframe thead th {\n",
       "        text-align: right;\n",
       "    }\n",
       "</style>\n",
       "<table border=\"1\" class=\"dataframe\">\n",
       "  <thead>\n",
       "    <tr style=\"text-align: right;\">\n",
       "      <th></th>\n",
       "      <th>NIM</th>\n",
       "      <th>ANGKATAN</th>\n",
       "      <th>SEMESTER</th>\n",
       "      <th>KODE_MK</th>\n",
       "      <th>NAMA_MK</th>\n",
       "      <th>SKS</th>\n",
       "      <th>NILAI</th>\n",
       "      <th>GRADE</th>\n",
       "      <th>BOBOT</th>\n",
       "      <th>TOTAL_BOBOT</th>\n",
       "    </tr>\n",
       "  </thead>\n",
       "  <tbody>\n",
       "    <tr>\n",
       "      <th>18866</th>\n",
       "      <td>00000009931</td>\n",
       "      <td>2015</td>\n",
       "      <td>1811</td>\n",
       "      <td>IS341</td>\n",
       "      <td>IS341 Sistem Basis Data</td>\n",
       "      <td>3</td>\n",
       "      <td>NaN</td>\n",
       "      <td>F</td>\n",
       "      <td>0.0</td>\n",
       "      <td>0.0</td>\n",
       "    </tr>\n",
       "    <tr>\n",
       "      <th>21965</th>\n",
       "      <td>00000012407</td>\n",
       "      <td>2015</td>\n",
       "      <td>1621</td>\n",
       "      <td>IS432</td>\n",
       "      <td>IS432 Pengantar E-Business</td>\n",
       "      <td>3</td>\n",
       "      <td>NaN</td>\n",
       "      <td>F</td>\n",
       "      <td>0.0</td>\n",
       "      <td>0.0</td>\n",
       "    </tr>\n",
       "    <tr>\n",
       "      <th>22633</th>\n",
       "      <td>00000013019</td>\n",
       "      <td>2016</td>\n",
       "      <td>1821</td>\n",
       "      <td>IS670</td>\n",
       "      <td>IS670 Audit Sistem Informasi</td>\n",
       "      <td>3</td>\n",
       "      <td>NaN</td>\n",
       "      <td>F</td>\n",
       "      <td>0.0</td>\n",
       "      <td>0.0</td>\n",
       "    </tr>\n",
       "    <tr>\n",
       "      <th>25920</th>\n",
       "      <td>00000019365</td>\n",
       "      <td>2017</td>\n",
       "      <td>1811</td>\n",
       "      <td>IS341</td>\n",
       "      <td>IS341 Sistem Basis Data</td>\n",
       "      <td>3</td>\n",
       "      <td>NaN</td>\n",
       "      <td>F</td>\n",
       "      <td>0.0</td>\n",
       "      <td>0.0</td>\n",
       "    </tr>\n",
       "    <tr>\n",
       "      <th>26030</th>\n",
       "      <td>00000019601</td>\n",
       "      <td>2017</td>\n",
       "      <td>1721</td>\n",
       "      <td>IS201</td>\n",
       "      <td>IS201 Proses Bisnis Korporat</td>\n",
       "      <td>3</td>\n",
       "      <td>NaN</td>\n",
       "      <td>F</td>\n",
       "      <td>0.0</td>\n",
       "      <td>0.0</td>\n",
       "    </tr>\n",
       "    <tr>\n",
       "      <th>26760</th>\n",
       "      <td>00000021116</td>\n",
       "      <td>2017</td>\n",
       "      <td>1711</td>\n",
       "      <td>IF110</td>\n",
       "      <td>IF110 Pengantar Teknologi Multimedia</td>\n",
       "      <td>3</td>\n",
       "      <td>NaN</td>\n",
       "      <td>F</td>\n",
       "      <td>0.0</td>\n",
       "      <td>0.0</td>\n",
       "    </tr>\n",
       "    <tr>\n",
       "      <th>26901</th>\n",
       "      <td>00000021159</td>\n",
       "      <td>2017</td>\n",
       "      <td>1821</td>\n",
       "      <td>UM321</td>\n",
       "      <td>UM321 Bahasa Inggris 3</td>\n",
       "      <td>2</td>\n",
       "      <td>NaN</td>\n",
       "      <td>F</td>\n",
       "      <td>0.0</td>\n",
       "      <td>0.0</td>\n",
       "    </tr>\n",
       "    <tr>\n",
       "      <th>27520</th>\n",
       "      <td>00000022742</td>\n",
       "      <td>2017</td>\n",
       "      <td>1721</td>\n",
       "      <td>IS230</td>\n",
       "      <td>IS230 Algoritma dan Pemrograman</td>\n",
       "      <td>3</td>\n",
       "      <td>NaN</td>\n",
       "      <td>F</td>\n",
       "      <td>0.0</td>\n",
       "      <td>0.0</td>\n",
       "    </tr>\n",
       "    <tr>\n",
       "      <th>27774</th>\n",
       "      <td>00000023564</td>\n",
       "      <td>2017</td>\n",
       "      <td>1721</td>\n",
       "      <td>IS230</td>\n",
       "      <td>IS230 Algoritma dan Pemrograman</td>\n",
       "      <td>3</td>\n",
       "      <td>NaN</td>\n",
       "      <td>F</td>\n",
       "      <td>0.0</td>\n",
       "      <td>0.0</td>\n",
       "    </tr>\n",
       "    <tr>\n",
       "      <th>29423</th>\n",
       "      <td>00000028446</td>\n",
       "      <td>2018</td>\n",
       "      <td>1821</td>\n",
       "      <td>IS220</td>\n",
       "      <td>IS220 Interaksi Manusia dan Komputer</td>\n",
       "      <td>3</td>\n",
       "      <td>NaN</td>\n",
       "      <td>F</td>\n",
       "      <td>0.0</td>\n",
       "      <td>0.0</td>\n",
       "    </tr>\n",
       "    <tr>\n",
       "      <th>29723</th>\n",
       "      <td>00000029747</td>\n",
       "      <td>2018</td>\n",
       "      <td>1811</td>\n",
       "      <td>IF100</td>\n",
       "      <td>IF100 Dasar-Dasar Pemrograman</td>\n",
       "      <td>3</td>\n",
       "      <td>NaN</td>\n",
       "      <td>F</td>\n",
       "      <td>0.0</td>\n",
       "      <td>0.0</td>\n",
       "    </tr>\n",
       "    <tr>\n",
       "      <th>30066</th>\n",
       "      <td>00000031318</td>\n",
       "      <td>2018</td>\n",
       "      <td>1821</td>\n",
       "      <td>IS201</td>\n",
       "      <td>IS201 Proses Bisnis Korporat</td>\n",
       "      <td>3</td>\n",
       "      <td>NaN</td>\n",
       "      <td>F</td>\n",
       "      <td>0.0</td>\n",
       "      <td>0.0</td>\n",
       "    </tr>\n",
       "  </tbody>\n",
       "</table>\n",
       "</div>"
      ],
      "text/plain": [
       "               NIM  ANGKATAN  SEMESTER KODE_MK  \\\n",
       "18866  00000009931      2015      1811   IS341   \n",
       "21965  00000012407      2015      1621   IS432   \n",
       "22633  00000013019      2016      1821   IS670   \n",
       "25920  00000019365      2017      1811   IS341   \n",
       "26030  00000019601      2017      1721   IS201   \n",
       "26760  00000021116      2017      1711   IF110   \n",
       "26901  00000021159      2017      1821   UM321   \n",
       "27520  00000022742      2017      1721   IS230   \n",
       "27774  00000023564      2017      1721   IS230   \n",
       "29423  00000028446      2018      1821   IS220   \n",
       "29723  00000029747      2018      1811   IF100   \n",
       "30066  00000031318      2018      1821   IS201   \n",
       "\n",
       "                                    NAMA_MK  SKS  NILAI GRADE  BOBOT  \\\n",
       "18866               IS341 Sistem Basis Data    3    NaN     F    0.0   \n",
       "21965            IS432 Pengantar E-Business    3    NaN     F    0.0   \n",
       "22633          IS670 Audit Sistem Informasi    3    NaN     F    0.0   \n",
       "25920               IS341 Sistem Basis Data    3    NaN     F    0.0   \n",
       "26030          IS201 Proses Bisnis Korporat    3    NaN     F    0.0   \n",
       "26760  IF110 Pengantar Teknologi Multimedia    3    NaN     F    0.0   \n",
       "26901                UM321 Bahasa Inggris 3    2    NaN     F    0.0   \n",
       "27520       IS230 Algoritma dan Pemrograman    3    NaN     F    0.0   \n",
       "27774       IS230 Algoritma dan Pemrograman    3    NaN     F    0.0   \n",
       "29423  IS220 Interaksi Manusia dan Komputer    3    NaN     F    0.0   \n",
       "29723         IF100 Dasar-Dasar Pemrograman    3    NaN     F    0.0   \n",
       "30066          IS201 Proses Bisnis Korporat    3    NaN     F    0.0   \n",
       "\n",
       "       TOTAL_BOBOT  \n",
       "18866          0.0  \n",
       "21965          0.0  \n",
       "22633          0.0  \n",
       "25920          0.0  \n",
       "26030          0.0  \n",
       "26760          0.0  \n",
       "26901          0.0  \n",
       "27520          0.0  \n",
       "27774          0.0  \n",
       "29423          0.0  \n",
       "29723          0.0  \n",
       "30066          0.0  "
      ]
     },
     "execution_count": 12,
     "metadata": {},
     "output_type": "execute_result"
    }
   ],
   "source": [
    "df1[df1['NILAI'].isnull()]"
   ]
  },
  {
   "cell_type": "markdown",
   "metadata": {},
   "source": [
    "Semua NILAI null berasal dari GRADE F"
   ]
  },
  {
   "cell_type": "code",
   "execution_count": 13,
   "metadata": {
    "ExecuteTime": {
     "end_time": "2022-06-01T08:10:05.552313Z",
     "start_time": "2022-06-01T08:10:05.542038Z"
    },
    "scrolled": true
   },
   "outputs": [
    {
     "data": {
      "text/html": [
       "<div>\n",
       "<style scoped>\n",
       "    .dataframe tbody tr th:only-of-type {\n",
       "        vertical-align: middle;\n",
       "    }\n",
       "\n",
       "    .dataframe tbody tr th {\n",
       "        vertical-align: top;\n",
       "    }\n",
       "\n",
       "    .dataframe thead th {\n",
       "        text-align: right;\n",
       "    }\n",
       "</style>\n",
       "<table border=\"1\" class=\"dataframe\">\n",
       "  <thead>\n",
       "    <tr style=\"text-align: right;\">\n",
       "      <th></th>\n",
       "      <th>NIM</th>\n",
       "      <th>ANGKATAN</th>\n",
       "      <th>SEMESTER</th>\n",
       "      <th>KODE_MK</th>\n",
       "      <th>NAMA_MK</th>\n",
       "      <th>SKS</th>\n",
       "      <th>NILAI</th>\n",
       "      <th>GRADE</th>\n",
       "      <th>BOBOT</th>\n",
       "      <th>TOTAL_BOBOT</th>\n",
       "    </tr>\n",
       "  </thead>\n",
       "  <tbody>\n",
       "  </tbody>\n",
       "</table>\n",
       "</div>"
      ],
      "text/plain": [
       "Empty DataFrame\n",
       "Columns: [NIM, ANGKATAN, SEMESTER, KODE_MK, NAMA_MK, SKS, NILAI, GRADE, BOBOT, TOTAL_BOBOT]\n",
       "Index: []"
      ]
     },
     "execution_count": 13,
     "metadata": {},
     "output_type": "execute_result"
    }
   ],
   "source": [
    "# fill null NILAI\n",
    "\n",
    "df1[\"NILAI\"] = df1[\"NILAI\"].fillna(0)\n",
    "df1[df1['NILAI'].isnull()]"
   ]
  },
  {
   "cell_type": "code",
   "execution_count": 14,
   "metadata": {
    "ExecuteTime": {
     "end_time": "2022-06-01T08:10:07.516408Z",
     "start_time": "2022-06-01T08:10:05.558814Z"
    }
   },
   "outputs": [],
   "source": [
    "# check nim yang duplicate mk\n",
    "def checkDuplicate():\n",
    "    nim_mhs = df1['NIM'].unique()\n",
    "    nim_for_doubled = []\n",
    "\n",
    "    for nim in nim_mhs:\n",
    "        dummy_df1 = df1.loc[df1['NIM'] == nim]\n",
    "        if dummy_df1['NAMA_MK'].duplicated().any():\n",
    "            nim_for_doubled.append(nim)\n",
    "            \n",
    "    return nim_for_doubled"
   ]
  },
  {
   "cell_type": "code",
   "execution_count": 15,
   "metadata": {},
   "outputs": [
    {
     "data": {
      "text/plain": [
       "['10110310011',\n",
       " '10110310022',\n",
       " '10110310036',\n",
       " '10110310037',\n",
       " '10110310044',\n",
       " '10110310045',\n",
       " '10110310047',\n",
       " '10110310083',\n",
       " '11110310003',\n",
       " '11110310004',\n",
       " '11110310005',\n",
       " '11110310009',\n",
       " '11110310020',\n",
       " '11110310026',\n",
       " '11110310035',\n",
       " '11110310080',\n",
       " '13110310069']"
      ]
     },
     "execution_count": 15,
     "metadata": {},
     "output_type": "execute_result"
    }
   ],
   "source": [
    "checkDuplicate()"
   ]
  },
  {
   "cell_type": "code",
   "execution_count": 16,
   "metadata": {
    "ExecuteTime": {
     "end_time": "2022-06-01T08:10:07.522600Z",
     "start_time": "2022-06-01T08:10:07.518265Z"
    }
   },
   "outputs": [
    {
     "name": "stdout",
     "output_type": "stream",
     "text": [
      "Ada 17 mahasiswa yang mengambil suatu mata kuliah secara berulang\n"
     ]
    }
   ],
   "source": [
    "print(f'Ada {len(checkDuplicate())} mahasiswa yang mengambil suatu mata kuliah secara berulang')"
   ]
  },
  {
   "cell_type": "code",
   "execution_count": 17,
   "metadata": {},
   "outputs": [],
   "source": [
    "# dropping duplicate MK\n",
    "df1 = df1.drop_duplicates(subset=['KODE_MK', 'NIM'], keep='last')"
   ]
  },
  {
   "cell_type": "code",
   "execution_count": 18,
   "metadata": {},
   "outputs": [
    {
     "name": "stdout",
     "output_type": "stream",
     "text": [
      "Ada 0 mahasiswa yang mengambil suatu mata kuliah secara berulang\n"
     ]
    }
   ],
   "source": [
    "print(f'Ada {len(checkDuplicate())} mahasiswa yang mengambil suatu mata kuliah secara berulang')"
   ]
  },
  {
   "cell_type": "code",
   "execution_count": 19,
   "metadata": {},
   "outputs": [
    {
     "data": {
      "text/html": [
       "<div>\n",
       "<style scoped>\n",
       "    .dataframe tbody tr th:only-of-type {\n",
       "        vertical-align: middle;\n",
       "    }\n",
       "\n",
       "    .dataframe tbody tr th {\n",
       "        vertical-align: top;\n",
       "    }\n",
       "\n",
       "    .dataframe thead th {\n",
       "        text-align: right;\n",
       "    }\n",
       "</style>\n",
       "<table border=\"1\" class=\"dataframe\">\n",
       "  <thead>\n",
       "    <tr style=\"text-align: right;\">\n",
       "      <th></th>\n",
       "      <th>NIM</th>\n",
       "      <th>ANGKATAN</th>\n",
       "      <th>SEMESTER</th>\n",
       "      <th>KODE_MK</th>\n",
       "      <th>NAMA_MK</th>\n",
       "      <th>SKS</th>\n",
       "      <th>NILAI</th>\n",
       "      <th>GRADE</th>\n",
       "      <th>BOBOT</th>\n",
       "      <th>TOTAL_BOBOT</th>\n",
       "    </tr>\n",
       "  </thead>\n",
       "  <tbody>\n",
       "    <tr>\n",
       "      <th>0</th>\n",
       "      <td>10110310002</td>\n",
       "      <td>2010</td>\n",
       "      <td>1011</td>\n",
       "      <td>EM100</td>\n",
       "      <td>EM100 Dasar-dasar Bisnis</td>\n",
       "      <td>3</td>\n",
       "      <td>57.0</td>\n",
       "      <td>C</td>\n",
       "      <td>2.0</td>\n",
       "      <td>6.0</td>\n",
       "    </tr>\n",
       "    <tr>\n",
       "      <th>1</th>\n",
       "      <td>10110310002</td>\n",
       "      <td>2010</td>\n",
       "      <td>1011</td>\n",
       "      <td>EM180</td>\n",
       "      <td>EM180 Matematika Bisnis</td>\n",
       "      <td>3</td>\n",
       "      <td>70.0</td>\n",
       "      <td>B</td>\n",
       "      <td>3.0</td>\n",
       "      <td>9.0</td>\n",
       "    </tr>\n",
       "    <tr>\n",
       "      <th>2</th>\n",
       "      <td>10110310002</td>\n",
       "      <td>2010</td>\n",
       "      <td>1011</td>\n",
       "      <td>TI100</td>\n",
       "      <td>TI100 Algoritma dan Pemrograman</td>\n",
       "      <td>4</td>\n",
       "      <td>57.0</td>\n",
       "      <td>C</td>\n",
       "      <td>2.0</td>\n",
       "      <td>8.0</td>\n",
       "    </tr>\n",
       "    <tr>\n",
       "      <th>3</th>\n",
       "      <td>10110310002</td>\n",
       "      <td>2010</td>\n",
       "      <td>1011</td>\n",
       "      <td>TI101</td>\n",
       "      <td>TI101 Matematika Diskrit</td>\n",
       "      <td>3</td>\n",
       "      <td>59.0</td>\n",
       "      <td>C</td>\n",
       "      <td>2.0</td>\n",
       "      <td>6.0</td>\n",
       "    </tr>\n",
       "    <tr>\n",
       "      <th>4</th>\n",
       "      <td>10110310002</td>\n",
       "      <td>2010</td>\n",
       "      <td>1011</td>\n",
       "      <td>TI110</td>\n",
       "      <td>TI110 Pengantar Teknologi Multimedia</td>\n",
       "      <td>3</td>\n",
       "      <td>74.0</td>\n",
       "      <td>B</td>\n",
       "      <td>3.0</td>\n",
       "      <td>9.0</td>\n",
       "    </tr>\n",
       "    <tr>\n",
       "      <th>...</th>\n",
       "      <td>...</td>\n",
       "      <td>...</td>\n",
       "      <td>...</td>\n",
       "      <td>...</td>\n",
       "      <td>...</td>\n",
       "      <td>...</td>\n",
       "      <td>...</td>\n",
       "      <td>...</td>\n",
       "      <td>...</td>\n",
       "      <td>...</td>\n",
       "    </tr>\n",
       "    <tr>\n",
       "      <th>30865</th>\n",
       "      <td>00000033849</td>\n",
       "      <td>2018</td>\n",
       "      <td>1821</td>\n",
       "      <td>IS220</td>\n",
       "      <td>IS220 Interaksi Manusia dan Komputer</td>\n",
       "      <td>3</td>\n",
       "      <td>26.0</td>\n",
       "      <td>E</td>\n",
       "      <td>0.0</td>\n",
       "      <td>0.0</td>\n",
       "    </tr>\n",
       "    <tr>\n",
       "      <th>30866</th>\n",
       "      <td>00000033849</td>\n",
       "      <td>2018</td>\n",
       "      <td>1821</td>\n",
       "      <td>IS240</td>\n",
       "      <td>IS240 Probabilitas dan Statistik</td>\n",
       "      <td>3</td>\n",
       "      <td>38.0</td>\n",
       "      <td>E</td>\n",
       "      <td>0.0</td>\n",
       "      <td>0.0</td>\n",
       "    </tr>\n",
       "    <tr>\n",
       "      <th>30867</th>\n",
       "      <td>00000033849</td>\n",
       "      <td>2018</td>\n",
       "      <td>1821</td>\n",
       "      <td>IS251</td>\n",
       "      <td>IS251 Perilaku Organisasi</td>\n",
       "      <td>2</td>\n",
       "      <td>49.0</td>\n",
       "      <td>D</td>\n",
       "      <td>1.0</td>\n",
       "      <td>2.0</td>\n",
       "    </tr>\n",
       "    <tr>\n",
       "      <th>30868</th>\n",
       "      <td>00000033849</td>\n",
       "      <td>2018</td>\n",
       "      <td>1821</td>\n",
       "      <td>IS255</td>\n",
       "      <td>IS255 Algoritma dan Struktur Data</td>\n",
       "      <td>4</td>\n",
       "      <td>1.0</td>\n",
       "      <td>E</td>\n",
       "      <td>0.0</td>\n",
       "      <td>0.0</td>\n",
       "    </tr>\n",
       "    <tr>\n",
       "      <th>30869</th>\n",
       "      <td>00000033849</td>\n",
       "      <td>2018</td>\n",
       "      <td>1821</td>\n",
       "      <td>UM223</td>\n",
       "      <td>UM223 Bahasa Inggris 2</td>\n",
       "      <td>2</td>\n",
       "      <td>40.0</td>\n",
       "      <td>E</td>\n",
       "      <td>0.0</td>\n",
       "      <td>0.0</td>\n",
       "    </tr>\n",
       "  </tbody>\n",
       "</table>\n",
       "<p>30085 rows × 10 columns</p>\n",
       "</div>"
      ],
      "text/plain": [
       "               NIM  ANGKATAN  SEMESTER KODE_MK  \\\n",
       "0      10110310002      2010      1011   EM100   \n",
       "1      10110310002      2010      1011   EM180   \n",
       "2      10110310002      2010      1011   TI100   \n",
       "3      10110310002      2010      1011   TI101   \n",
       "4      10110310002      2010      1011   TI110   \n",
       "...            ...       ...       ...     ...   \n",
       "30865  00000033849      2018      1821   IS220   \n",
       "30866  00000033849      2018      1821   IS240   \n",
       "30867  00000033849      2018      1821   IS251   \n",
       "30868  00000033849      2018      1821   IS255   \n",
       "30869  00000033849      2018      1821   UM223   \n",
       "\n",
       "                                    NAMA_MK  SKS  NILAI GRADE  BOBOT  \\\n",
       "0                  EM100 Dasar-dasar Bisnis    3   57.0     C    2.0   \n",
       "1                   EM180 Matematika Bisnis    3   70.0     B    3.0   \n",
       "2           TI100 Algoritma dan Pemrograman    4   57.0     C    2.0   \n",
       "3                  TI101 Matematika Diskrit    3   59.0     C    2.0   \n",
       "4      TI110 Pengantar Teknologi Multimedia    3   74.0     B    3.0   \n",
       "...                                     ...  ...    ...   ...    ...   \n",
       "30865  IS220 Interaksi Manusia dan Komputer    3   26.0     E    0.0   \n",
       "30866      IS240 Probabilitas dan Statistik    3   38.0     E    0.0   \n",
       "30867             IS251 Perilaku Organisasi    2   49.0     D    1.0   \n",
       "30868     IS255 Algoritma dan Struktur Data    4    1.0     E    0.0   \n",
       "30869                UM223 Bahasa Inggris 2    2   40.0     E    0.0   \n",
       "\n",
       "       TOTAL_BOBOT  \n",
       "0              6.0  \n",
       "1              9.0  \n",
       "2              8.0  \n",
       "3              6.0  \n",
       "4              9.0  \n",
       "...            ...  \n",
       "30865          0.0  \n",
       "30866          0.0  \n",
       "30867          2.0  \n",
       "30868          0.0  \n",
       "30869          0.0  \n",
       "\n",
       "[30085 rows x 10 columns]"
      ]
     },
     "execution_count": 19,
     "metadata": {},
     "output_type": "execute_result"
    }
   ],
   "source": [
    "df1"
   ]
  },
  {
   "cell_type": "markdown",
   "metadata": {},
   "source": [
    "**Dataframe 2 (Evaluasi Dosen per Mata Kuliah)**"
   ]
  },
  {
   "cell_type": "code",
   "execution_count": 20,
   "metadata": {},
   "outputs": [
    {
     "data": {
      "text/plain": [
       "<AxesSubplot:>"
      ]
     },
     "execution_count": 20,
     "metadata": {},
     "output_type": "execute_result"
    },
    {
     "data": {
      "image/png": "[encoded data removed]",
      "text/plain": [
       "<Figure size 432x288 with 1 Axes>"
      ]
     },
     "metadata": {
      "needs_background": "light"
     },
     "output_type": "display_data"
    }
   ],
   "source": [
    "sns.heatmap(df2.isnull(), cbar=False)"
   ]
  },
  {
   "cell_type": "code",
   "execution_count": 21,
   "metadata": {
    "ExecuteTime": {
     "end_time": "2022-06-01T08:10:07.551444Z",
     "start_time": "2022-06-01T08:10:07.524827Z"
    }
   },
   "outputs": [
    {
     "data": {
      "text/html": [
       "<div>\n",
       "<style scoped>\n",
       "    .dataframe tbody tr th:only-of-type {\n",
       "        vertical-align: middle;\n",
       "    }\n",
       "\n",
       "    .dataframe tbody tr th {\n",
       "        vertical-align: top;\n",
       "    }\n",
       "\n",
       "    .dataframe thead th {\n",
       "        text-align: right;\n",
       "    }\n",
       "</style>\n",
       "<table border=\"1\" class=\"dataframe\">\n",
       "  <thead>\n",
       "    <tr style=\"text-align: right;\">\n",
       "      <th></th>\n",
       "      <th>TAHUN</th>\n",
       "      <th>SEMESTER</th>\n",
       "      <th>MATAKULIAH</th>\n",
       "      <th>PERTANYAAN</th>\n",
       "      <th>KETERANGAN</th>\n",
       "      <th>NILAI</th>\n",
       "    </tr>\n",
       "  </thead>\n",
       "  <tbody>\n",
       "    <tr>\n",
       "      <th>0</th>\n",
       "      <td>2015</td>\n",
       "      <td>1511</td>\n",
       "      <td>IS100 Management Information Systems</td>\n",
       "      <td>1</td>\n",
       "      <td>Kesiapan memberikan perkuliahan/praktikum</td>\n",
       "      <td>3.28</td>\n",
       "    </tr>\n",
       "    <tr>\n",
       "      <th>1</th>\n",
       "      <td>2015</td>\n",
       "      <td>1511</td>\n",
       "      <td>IS100 Management Information Systems</td>\n",
       "      <td>2</td>\n",
       "      <td>Upaya  menyampaikan materi perkuliahan/praktik...</td>\n",
       "      <td>3.25</td>\n",
       "    </tr>\n",
       "    <tr>\n",
       "      <th>2</th>\n",
       "      <td>2015</td>\n",
       "      <td>1511</td>\n",
       "      <td>IS100 Management Information Systems</td>\n",
       "      <td>3</td>\n",
       "      <td>Sistematis dalam menyampaikan materi perkuliah...</td>\n",
       "      <td>3.24</td>\n",
       "    </tr>\n",
       "    <tr>\n",
       "      <th>3</th>\n",
       "      <td>2015</td>\n",
       "      <td>1511</td>\n",
       "      <td>IS100 Management Information Systems</td>\n",
       "      <td>4</td>\n",
       "      <td>Kemampuan memberikan contoh yang relevan dari ...</td>\n",
       "      <td>3.30</td>\n",
       "    </tr>\n",
       "    <tr>\n",
       "      <th>4</th>\n",
       "      <td>2015</td>\n",
       "      <td>1511</td>\n",
       "      <td>IS100 Management Information Systems</td>\n",
       "      <td>5</td>\n",
       "      <td>Penyampaian materi perkuliahan sesuai dengan k...</td>\n",
       "      <td>3.27</td>\n",
       "    </tr>\n",
       "    <tr>\n",
       "      <th>5</th>\n",
       "      <td>2015</td>\n",
       "      <td>1511</td>\n",
       "      <td>IS100 Management Information Systems</td>\n",
       "      <td>6</td>\n",
       "      <td>Pemakaian buku teks sebagai buku utama perkuli...</td>\n",
       "      <td>3.19</td>\n",
       "    </tr>\n",
       "    <tr>\n",
       "      <th>6</th>\n",
       "      <td>2015</td>\n",
       "      <td>1511</td>\n",
       "      <td>IS100 Management Information Systems</td>\n",
       "      <td>7</td>\n",
       "      <td>Memberi review materi  perkuliahan sebelumnya</td>\n",
       "      <td>3.18</td>\n",
       "    </tr>\n",
       "    <tr>\n",
       "      <th>7</th>\n",
       "      <td>2015</td>\n",
       "      <td>1511</td>\n",
       "      <td>IS100 Management Information Systems</td>\n",
       "      <td>8</td>\n",
       "      <td>Pemberian kesempatan bertanya, berdiskusi sert...</td>\n",
       "      <td>3.32</td>\n",
       "    </tr>\n",
       "    <tr>\n",
       "      <th>8</th>\n",
       "      <td>2015</td>\n",
       "      <td>1511</td>\n",
       "      <td>IS100 Management Information Systems</td>\n",
       "      <td>9</td>\n",
       "      <td>Kejelasan menjawab pertanyaan /diskusi di kelas</td>\n",
       "      <td>3.29</td>\n",
       "    </tr>\n",
       "    <tr>\n",
       "      <th>9</th>\n",
       "      <td>2015</td>\n",
       "      <td>1511</td>\n",
       "      <td>IS100 Management Information Systems</td>\n",
       "      <td>10</td>\n",
       "      <td>Pemberian tugas/kuis serta pembahasannya di kelas</td>\n",
       "      <td>3.24</td>\n",
       "    </tr>\n",
       "    <tr>\n",
       "      <th>10</th>\n",
       "      <td>2015</td>\n",
       "      <td>1511</td>\n",
       "      <td>IS100 Management Information Systems</td>\n",
       "      <td>11</td>\n",
       "      <td>Kemampuan memotivasi semangat belajar mahasiswa</td>\n",
       "      <td>3.31</td>\n",
       "    </tr>\n",
       "    <tr>\n",
       "      <th>11</th>\n",
       "      <td>2015</td>\n",
       "      <td>1511</td>\n",
       "      <td>IS100 Management Information Systems</td>\n",
       "      <td>12</td>\n",
       "      <td>Kemampuan menerima kritik, saran dan pendapat</td>\n",
       "      <td>3.27</td>\n",
       "    </tr>\n",
       "    <tr>\n",
       "      <th>12</th>\n",
       "      <td>2015</td>\n",
       "      <td>1511</td>\n",
       "      <td>IS100 Management Information Systems</td>\n",
       "      <td>13</td>\n",
       "      <td>Fairness dalam memberikan penilaian</td>\n",
       "      <td>3.26</td>\n",
       "    </tr>\n",
       "    <tr>\n",
       "      <th>13</th>\n",
       "      <td>2015</td>\n",
       "      <td>1511</td>\n",
       "      <td>IS100 Management Information Systems</td>\n",
       "      <td>14</td>\n",
       "      <td>Ketepatan waktu dalam memulai dan mengakhiri p...</td>\n",
       "      <td>3.31</td>\n",
       "    </tr>\n",
       "  </tbody>\n",
       "</table>\n",
       "</div>"
      ],
      "text/plain": [
       "    TAHUN  SEMESTER                            MATAKULIAH  PERTANYAAN  \\\n",
       "0    2015      1511  IS100 Management Information Systems           1   \n",
       "1    2015      1511  IS100 Management Information Systems           2   \n",
       "2    2015      1511  IS100 Management Information Systems           3   \n",
       "3    2015      1511  IS100 Management Information Systems           4   \n",
       "4    2015      1511  IS100 Management Information Systems           5   \n",
       "5    2015      1511  IS100 Management Information Systems           6   \n",
       "6    2015      1511  IS100 Management Information Systems           7   \n",
       "7    2015      1511  IS100 Management Information Systems           8   \n",
       "8    2015      1511  IS100 Management Information Systems           9   \n",
       "9    2015      1511  IS100 Management Information Systems          10   \n",
       "10   2015      1511  IS100 Management Information Systems          11   \n",
       "11   2015      1511  IS100 Management Information Systems          12   \n",
       "12   2015      1511  IS100 Management Information Systems          13   \n",
       "13   2015      1511  IS100 Management Information Systems          14   \n",
       "\n",
       "                                           KETERANGAN  NILAI  \n",
       "0           Kesiapan memberikan perkuliahan/praktikum   3.28  \n",
       "1   Upaya  menyampaikan materi perkuliahan/praktik...   3.25  \n",
       "2   Sistematis dalam menyampaikan materi perkuliah...   3.24  \n",
       "3   Kemampuan memberikan contoh yang relevan dari ...   3.30  \n",
       "4   Penyampaian materi perkuliahan sesuai dengan k...   3.27  \n",
       "5   Pemakaian buku teks sebagai buku utama perkuli...   3.19  \n",
       "6       Memberi review materi  perkuliahan sebelumnya   3.18  \n",
       "7   Pemberian kesempatan bertanya, berdiskusi sert...   3.32  \n",
       "8     Kejelasan menjawab pertanyaan /diskusi di kelas   3.29  \n",
       "9   Pemberian tugas/kuis serta pembahasannya di kelas   3.24  \n",
       "10    Kemampuan memotivasi semangat belajar mahasiswa   3.31  \n",
       "11      Kemampuan menerima kritik, saran dan pendapat   3.27  \n",
       "12                Fairness dalam memberikan penilaian   3.26  \n",
       "13  Ketepatan waktu dalam memulai dan mengakhiri p...   3.31  "
      ]
     },
     "execution_count": 21,
     "metadata": {},
     "output_type": "execute_result"
    }
   ],
   "source": [
    "df2.head(14)"
   ]
  },
  {
   "cell_type": "code",
   "execution_count": 22,
   "metadata": {
    "ExecuteTime": {
     "end_time": "2022-06-01T08:10:07.584965Z",
     "start_time": "2022-06-01T08:10:07.561346Z"
    },
    "scrolled": false
   },
   "outputs": [
    {
     "data": {
      "text/html": [
       "<div>\n",
       "<style scoped>\n",
       "    .dataframe tbody tr th:only-of-type {\n",
       "        vertical-align: middle;\n",
       "    }\n",
       "\n",
       "    .dataframe tbody tr th {\n",
       "        vertical-align: top;\n",
       "    }\n",
       "\n",
       "    .dataframe thead th {\n",
       "        text-align: right;\n",
       "    }\n",
       "</style>\n",
       "<table border=\"1\" class=\"dataframe\">\n",
       "  <thead>\n",
       "    <tr style=\"text-align: right;\">\n",
       "      <th></th>\n",
       "      <th>TAHUN</th>\n",
       "      <th>MATAKULIAH</th>\n",
       "      <th>NILAI_RATA-RATA</th>\n",
       "    </tr>\n",
       "  </thead>\n",
       "  <tbody>\n",
       "    <tr>\n",
       "      <th>0</th>\n",
       "      <td>2015</td>\n",
       "      <td>IS100 Management Information Systems</td>\n",
       "      <td>3.265000</td>\n",
       "    </tr>\n",
       "    <tr>\n",
       "      <th>1</th>\n",
       "      <td>2015</td>\n",
       "      <td>IS110 Business Mathematics</td>\n",
       "      <td>3.087143</td>\n",
       "    </tr>\n",
       "    <tr>\n",
       "      <th>2</th>\n",
       "      <td>2015</td>\n",
       "      <td>IS201 Corporate Business Processes</td>\n",
       "      <td>3.064286</td>\n",
       "    </tr>\n",
       "    <tr>\n",
       "      <th>3</th>\n",
       "      <td>2015</td>\n",
       "      <td>IS220 Human and Computer Interaction</td>\n",
       "      <td>3.295000</td>\n",
       "    </tr>\n",
       "    <tr>\n",
       "      <th>4</th>\n",
       "      <td>2015</td>\n",
       "      <td>IS230 Algorithms and Programming</td>\n",
       "      <td>3.129286</td>\n",
       "    </tr>\n",
       "    <tr>\n",
       "      <th>...</th>\n",
       "      <td>...</td>\n",
       "      <td>...</td>\n",
       "      <td>...</td>\n",
       "    </tr>\n",
       "    <tr>\n",
       "      <th>134</th>\n",
       "      <td>2018</td>\n",
       "      <td>IS726 Innovation in Information and Technology</td>\n",
       "      <td>3.363571</td>\n",
       "    </tr>\n",
       "    <tr>\n",
       "      <th>135</th>\n",
       "      <td>2018</td>\n",
       "      <td>IS747 Database Administration 2</td>\n",
       "      <td>3.740000</td>\n",
       "    </tr>\n",
       "    <tr>\n",
       "      <th>136</th>\n",
       "      <td>2018</td>\n",
       "      <td>IS749 Business Intelligence</td>\n",
       "      <td>3.361429</td>\n",
       "    </tr>\n",
       "    <tr>\n",
       "      <th>137</th>\n",
       "      <td>2018</td>\n",
       "      <td>IS773 IT Governance 3</td>\n",
       "      <td>3.240714</td>\n",
       "    </tr>\n",
       "    <tr>\n",
       "      <th>138</th>\n",
       "      <td>2018</td>\n",
       "      <td>IS782 Enterprise Application and Systems 3</td>\n",
       "      <td>3.310714</td>\n",
       "    </tr>\n",
       "  </tbody>\n",
       "</table>\n",
       "<p>139 rows × 3 columns</p>\n",
       "</div>"
      ],
      "text/plain": [
       "     TAHUN                                      MATAKULIAH  NILAI_RATA-RATA\n",
       "0     2015            IS100 Management Information Systems         3.265000\n",
       "1     2015                      IS110 Business Mathematics         3.087143\n",
       "2     2015              IS201 Corporate Business Processes         3.064286\n",
       "3     2015            IS220 Human and Computer Interaction         3.295000\n",
       "4     2015                IS230 Algorithms and Programming         3.129286\n",
       "..     ...                                             ...              ...\n",
       "134   2018  IS726 Innovation in Information and Technology         3.363571\n",
       "135   2018                 IS747 Database Administration 2         3.740000\n",
       "136   2018                     IS749 Business Intelligence         3.361429\n",
       "137   2018                           IS773 IT Governance 3         3.240714\n",
       "138   2018      IS782 Enterprise Application and Systems 3         3.310714\n",
       "\n",
       "[139 rows x 3 columns]"
      ]
     },
     "execution_count": 22,
     "metadata": {},
     "output_type": "execute_result"
    }
   ],
   "source": [
    "# nilai rata-rata dari tiap matakuliah\n",
    "\n",
    "df4 = pd.DataFrame(df2.groupby([\"TAHUN\", \"MATAKULIAH\"])[\"NILAI\"].mean().reset_index())\n",
    "df4.rename(columns = {\"NILAI\" : \"NILAI_RATA-RATA\"}, inplace = True)\n",
    "\n",
    "df4"
   ]
  },
  {
   "cell_type": "markdown",
   "metadata": {},
   "source": [
    "## Data Exploration"
   ]
  },
  {
   "cell_type": "code",
   "execution_count": 23,
   "metadata": {
    "ExecuteTime": {
     "end_time": "2022-06-01T08:10:07.775552Z",
     "start_time": "2022-06-01T08:10:07.590008Z"
    }
   },
   "outputs": [
    {
     "data": {
      "text/plain": [
       "Text(0, 0.5, 'Jumlah')"
      ]
     },
     "execution_count": 23,
     "metadata": {},
     "output_type": "execute_result"
    },
    {
     "data": {
      "image/png": "[encoded data removed]",
      "text/plain": [
       "<Figure size 432x288 with 1 Axes>"
      ]
     },
     "metadata": {
      "needs_background": "light"
     },
     "output_type": "display_data"
    }
   ],
   "source": [
    "plt.title(\"Distribusi Nilai Semua Mata Kuliah\")\n",
    "plt.hist(df1[\"NILAI\"], bins=[0, 10, 20, 30, 40, 50, 60, 70, 80, 90, 100], rwidth=0.9)\n",
    "plt.xticks([0, 10, 20, 30, 40, 50, 60, 70, 80, 90, 100])\n",
    "plt.xlabel(\"Nilai\")\n",
    "plt.ylabel(\"Jumlah\")"
   ]
  },
  {
   "cell_type": "code",
   "execution_count": 53,
   "metadata": {
    "ExecuteTime": {
     "end_time": "2022-06-01T08:10:07.885906Z",
     "start_time": "2022-06-01T08:10:07.777415Z"
    }
   },
   "outputs": [
    {
     "data": {
      "text/html": [
       "<div>\n",
       "<style scoped>\n",
       "    .dataframe tbody tr th:only-of-type {\n",
       "        vertical-align: middle;\n",
       "    }\n",
       "\n",
       "    .dataframe tbody tr th {\n",
       "        vertical-align: top;\n",
       "    }\n",
       "\n",
       "    .dataframe thead th {\n",
       "        text-align: right;\n",
       "    }\n",
       "</style>\n",
       "<table border=\"1\" class=\"dataframe\">\n",
       "  <thead>\n",
       "    <tr style=\"text-align: right;\">\n",
       "      <th></th>\n",
       "      <th>NIM</th>\n",
       "      <th>TOTAL_SKS</th>\n",
       "      <th>FAILED_GRADE</th>\n",
       "      <th>TOTAL_BOBOT</th>\n",
       "      <th>WAKTU KULIAH</th>\n",
       "      <th>IPK</th>\n",
       "    </tr>\n",
       "  </thead>\n",
       "  <tbody>\n",
       "    <tr>\n",
       "      <th>0</th>\n",
       "      <td>00000008429</td>\n",
       "      <td>145</td>\n",
       "      <td>D</td>\n",
       "      <td>474.5</td>\n",
       "      <td>3.5</td>\n",
       "      <td>3.272414</td>\n",
       "    </tr>\n",
       "    <tr>\n",
       "      <th>1</th>\n",
       "      <td>00000008455</td>\n",
       "      <td>136</td>\n",
       "      <td>DD</td>\n",
       "      <td>416.2</td>\n",
       "      <td>3.5</td>\n",
       "      <td>3.060294</td>\n",
       "    </tr>\n",
       "    <tr>\n",
       "      <th>2</th>\n",
       "      <td>00000008481</td>\n",
       "      <td>127</td>\n",
       "      <td>DDDEEED</td>\n",
       "      <td>313.6</td>\n",
       "      <td>3.5</td>\n",
       "      <td>2.469291</td>\n",
       "    </tr>\n",
       "    <tr>\n",
       "      <th>3</th>\n",
       "      <td>00000008631</td>\n",
       "      <td>145</td>\n",
       "      <td></td>\n",
       "      <td>519.3</td>\n",
       "      <td>3.0</td>\n",
       "      <td>3.581379</td>\n",
       "    </tr>\n",
       "    <tr>\n",
       "      <th>4</th>\n",
       "      <td>00000008684</td>\n",
       "      <td>145</td>\n",
       "      <td></td>\n",
       "      <td>512.1</td>\n",
       "      <td>3.0</td>\n",
       "      <td>3.531724</td>\n",
       "    </tr>\n",
       "  </tbody>\n",
       "</table>\n",
       "</div>"
      ],
      "text/plain": [
       "           NIM  TOTAL_SKS FAILED_GRADE  TOTAL_BOBOT  WAKTU KULIAH       IPK\n",
       "0  00000008429        145            D        474.5           3.5  3.272414\n",
       "1  00000008455        136           DD        416.2           3.5  3.060294\n",
       "2  00000008481        127      DDDEEED        313.6           3.5  2.469291\n",
       "3  00000008631        145                     519.3           3.0  3.581379\n",
       "4  00000008684        145                     512.1           3.0  3.531724"
      ]
     },
     "execution_count": 53,
     "metadata": {},
     "output_type": "execute_result"
    }
   ],
   "source": [
    "# Pembuataan Dataframe dengan grouping data berdasarkan NIM\n",
    "# Perhitungan SKS\n",
    "df3_ = pd.DataFrame(df1.groupby([\"NIM\"])[\"SKS\"].sum().reset_index())\n",
    "# Perhitungan Grade\n",
    "df3__ = pd.DataFrame(df1.loc[(df1[\"GRADE\"] == \"D\") | (df1[\"GRADE\"] == \"E\") | (df1[\"GRADE\"] == \"F\")].groupby(\"NIM\")[\"GRADE\"].sum().reset_index())\n",
    "# Perhitungan Total Bobot\n",
    "df3___ = pd.DataFrame((df1.groupby(\"NIM\")[\"TOTAL_BOBOT\"].sum().reset_index()))\n",
    "# Perhitungan jumlah semester\n",
    "df3____ =  pd.DataFrame((((df1.groupby(\"NIM\")[\"SEMESTER\"].max() - df1.groupby(\"NIM\")[\"SEMESTER\"].min()) / 100).reset_index()))\n",
    "\n",
    "# Merging Dataframe\n",
    "df3 = pd.merge(df3_, df3__, how=\"left\", on=[\"NIM\"])\n",
    "df3 = pd.merge(df3, df3___, how=\"left\", on=[\"NIM\"])\n",
    "df3 = pd.merge(df3, df3____, how=\"left\", on=[\"NIM\"])\n",
    "df3[\"GRADE\"] = df3[\"GRADE\"].fillna(\"\")\n",
    "\n",
    "df3.rename(columns = {\"GRADE\" : \"FAILED_GRADE\", \"SKS\" : \"TOTAL_SKS\", \"SEMESTER\" : \"WAKTU KULIAH\"}, inplace = True)\n",
    "\n",
    "# Perhitungan IPK\n",
    "for i in df3.index:\n",
    "    df3.at[i ,\"IPK\"] = df3.at[i, \"TOTAL_BOBOT\"] / df3.at[i, \"TOTAL_SKS\"]\n",
    "    if df3.at[i, \"WAKTU KULIAH\"] - int(df3.at[i, \"WAKTU KULIAH\"]) != 0: \n",
    "        df3.at[i, \"WAKTU KULIAH\"] = int(df3.at[i, \"WAKTU KULIAH\"]) + 0.5\n",
    "df3.head()"
   ]
  },
  {
   "cell_type": "code",
   "execution_count": 54,
   "metadata": {},
   "outputs": [
    {
     "data": {
      "text/html": [
       "<div>\n",
       "<style scoped>\n",
       "    .dataframe tbody tr th:only-of-type {\n",
       "        vertical-align: middle;\n",
       "    }\n",
       "\n",
       "    .dataframe tbody tr th {\n",
       "        vertical-align: top;\n",
       "    }\n",
       "\n",
       "    .dataframe thead th {\n",
       "        text-align: right;\n",
       "    }\n",
       "</style>\n",
       "<table border=\"1\" class=\"dataframe\">\n",
       "  <thead>\n",
       "    <tr style=\"text-align: right;\">\n",
       "      <th></th>\n",
       "      <th>NIM</th>\n",
       "      <th>TOTAL_SKS</th>\n",
       "      <th>FAILED_GRADE</th>\n",
       "      <th>TOTAL_BOBOT</th>\n",
       "      <th>WAKTU KULIAH</th>\n",
       "      <th>IPK</th>\n",
       "    </tr>\n",
       "  </thead>\n",
       "  <tbody>\n",
       "    <tr>\n",
       "      <th>449</th>\n",
       "      <td>10110310022</td>\n",
       "      <td>145</td>\n",
       "      <td>DD</td>\n",
       "      <td>410.8</td>\n",
       "      <td>4.0</td>\n",
       "      <td>2.833103</td>\n",
       "    </tr>\n",
       "  </tbody>\n",
       "</table>\n",
       "</div>"
      ],
      "text/plain": [
       "             NIM  TOTAL_SKS FAILED_GRADE  TOTAL_BOBOT  WAKTU KULIAH       IPK\n",
       "449  10110310022        145           DD        410.8           4.0  2.833103"
      ]
     },
     "execution_count": 54,
     "metadata": {},
     "output_type": "execute_result"
    }
   ],
   "source": [
    "df3.loc[df3[\"NIM\"] == '10110310022']"
   ]
  },
  {
   "cell_type": "code",
   "execution_count": 55,
   "metadata": {},
   "outputs": [
    {
     "name": "stdout",
     "output_type": "stream",
     "text": [
      "<class 'pandas.core.frame.DataFrame'>\n",
      "Int64Index: 770 entries, 0 to 769\n",
      "Data columns (total 6 columns):\n",
      " #   Column        Non-Null Count  Dtype  \n",
      "---  ------        --------------  -----  \n",
      " 0   NIM           770 non-null    object \n",
      " 1   TOTAL_SKS     770 non-null    int64  \n",
      " 2   FAILED_GRADE  770 non-null    object \n",
      " 3   TOTAL_BOBOT   770 non-null    float64\n",
      " 4   WAKTU KULIAH  770 non-null    float64\n",
      " 5   IPK           770 non-null    float64\n",
      "dtypes: float64(3), int64(1), object(2)\n",
      "memory usage: 62.1+ KB\n"
     ]
    }
   ],
   "source": [
    "df3.info()"
   ]
  },
  {
   "cell_type": "code",
   "execution_count": 56,
   "metadata": {
    "ExecuteTime": {
     "end_time": "2022-06-01T08:10:07.915720Z",
     "start_time": "2022-06-01T08:10:07.887877Z"
    }
   },
   "outputs": [],
   "source": [
    "# Belum Nambah Faktor yang ngulang terus nilainya udah lulus \n",
    "for i in df3.index:\n",
    "    if df3.at[i, \"TOTAL_SKS\"] >= 144 and df3.at[i, \"FAILED_GRADE\"] == \"\" and df3.at[i, \"IPK\"] >= 2.5:\n",
    "        df3.at[i, \"TIDAK_LULUS\"] = False\n",
    "    else:  \n",
    "        df3.at[i, \"TIDAK_LULUS\"] = True"
   ]
  },
  {
   "cell_type": "code",
   "execution_count": 57,
   "metadata": {
    "ExecuteTime": {
     "end_time": "2022-06-01T08:10:07.928095Z",
     "start_time": "2022-06-01T08:10:07.919581Z"
    }
   },
   "outputs": [],
   "source": [
    "df3['TIDAK_LULUS'] = df3['TIDAK_LULUS'].astype('bool')"
   ]
  },
  {
   "cell_type": "code",
   "execution_count": 58,
   "metadata": {
    "ExecuteTime": {
     "end_time": "2022-06-01T08:10:07.945385Z",
     "start_time": "2022-06-01T08:10:07.938776Z"
    }
   },
   "outputs": [],
   "source": [
    "df3['LULUS'] = ~df3['TIDAK_LULUS']"
   ]
  },
  {
   "cell_type": "code",
   "execution_count": 59,
   "metadata": {
    "ExecuteTime": {
     "end_time": "2022-06-01T08:10:07.954631Z",
     "start_time": "2022-06-01T08:10:07.947577Z"
    }
   },
   "outputs": [
    {
     "data": {
      "text/plain": [
       "True     589\n",
       "False    181\n",
       "Name: TIDAK_LULUS, dtype: int64"
      ]
     },
     "execution_count": 59,
     "metadata": {},
     "output_type": "execute_result"
    }
   ],
   "source": [
    "df3[\"TIDAK_LULUS\"].value_counts()"
   ]
  },
  {
   "cell_type": "code",
   "execution_count": 60,
   "metadata": {
    "ExecuteTime": {
     "end_time": "2022-06-01T08:10:08.142153Z",
     "start_time": "2022-06-01T08:10:07.966136Z"
    }
   },
   "outputs": [
    {
     "data": {
      "text/plain": [
       "<matplotlib.legend.Legend at 0x1692b844dc0>"
      ]
     },
     "execution_count": 60,
     "metadata": {},
     "output_type": "execute_result"
    },
    {
     "data": {
      "image/png": "[encoded data removed]",
      "text/plain": [
       "<Figure size 432x288 with 1 Axes>"
      ]
     },
     "metadata": {},
     "output_type": "display_data"
    }
   ],
   "source": [
    "plt.pie(df3[\"TIDAK_LULUS\"].value_counts(), autopct='%1.1f%%')\n",
    "plt.legend([\"Tidak\", \"Lulus\"])"
   ]
  },
  {
   "cell_type": "code",
   "execution_count": 61,
   "metadata": {
    "ExecuteTime": {
     "end_time": "2022-06-01T08:10:08.172851Z",
     "start_time": "2022-06-01T08:10:08.145380Z"
    }
   },
   "outputs": [
    {
     "data": {
      "text/html": [
       "<div>\n",
       "<style scoped>\n",
       "    .dataframe tbody tr th:only-of-type {\n",
       "        vertical-align: middle;\n",
       "    }\n",
       "\n",
       "    .dataframe tbody tr th {\n",
       "        vertical-align: top;\n",
       "    }\n",
       "\n",
       "    .dataframe thead th {\n",
       "        text-align: right;\n",
       "    }\n",
       "</style>\n",
       "<table border=\"1\" class=\"dataframe\">\n",
       "  <thead>\n",
       "    <tr style=\"text-align: right;\">\n",
       "      <th></th>\n",
       "      <th>NIM</th>\n",
       "      <th>TOTAL_SKS</th>\n",
       "      <th>FAILED_GRADE</th>\n",
       "      <th>TOTAL_BOBOT</th>\n",
       "      <th>WAKTU KULIAH</th>\n",
       "      <th>IPK</th>\n",
       "      <th>TIDAK_LULUS</th>\n",
       "      <th>LULUS</th>\n",
       "    </tr>\n",
       "  </thead>\n",
       "  <tbody>\n",
       "    <tr>\n",
       "      <th>0</th>\n",
       "      <td>00000008429</td>\n",
       "      <td>145</td>\n",
       "      <td>D</td>\n",
       "      <td>474.5</td>\n",
       "      <td>3.5</td>\n",
       "      <td>3.272414</td>\n",
       "      <td>True</td>\n",
       "      <td>False</td>\n",
       "    </tr>\n",
       "    <tr>\n",
       "      <th>1</th>\n",
       "      <td>00000008455</td>\n",
       "      <td>136</td>\n",
       "      <td>DD</td>\n",
       "      <td>416.2</td>\n",
       "      <td>3.5</td>\n",
       "      <td>3.060294</td>\n",
       "      <td>True</td>\n",
       "      <td>False</td>\n",
       "    </tr>\n",
       "    <tr>\n",
       "      <th>2</th>\n",
       "      <td>00000008481</td>\n",
       "      <td>127</td>\n",
       "      <td>DDDEEED</td>\n",
       "      <td>313.6</td>\n",
       "      <td>3.5</td>\n",
       "      <td>2.469291</td>\n",
       "      <td>True</td>\n",
       "      <td>False</td>\n",
       "    </tr>\n",
       "    <tr>\n",
       "      <th>5</th>\n",
       "      <td>00000008757</td>\n",
       "      <td>133</td>\n",
       "      <td>DEDDDD</td>\n",
       "      <td>399.0</td>\n",
       "      <td>3.5</td>\n",
       "      <td>3.000000</td>\n",
       "      <td>True</td>\n",
       "      <td>False</td>\n",
       "    </tr>\n",
       "    <tr>\n",
       "      <th>6</th>\n",
       "      <td>00000008775</td>\n",
       "      <td>145</td>\n",
       "      <td>D</td>\n",
       "      <td>506.5</td>\n",
       "      <td>3.5</td>\n",
       "      <td>3.493103</td>\n",
       "      <td>True</td>\n",
       "      <td>False</td>\n",
       "    </tr>\n",
       "    <tr>\n",
       "      <th>...</th>\n",
       "      <td>...</td>\n",
       "      <td>...</td>\n",
       "      <td>...</td>\n",
       "      <td>...</td>\n",
       "      <td>...</td>\n",
       "      <td>...</td>\n",
       "      <td>...</td>\n",
       "      <td>...</td>\n",
       "    </tr>\n",
       "    <tr>\n",
       "      <th>765</th>\n",
       "      <td>14110310095</td>\n",
       "      <td>145</td>\n",
       "      <td>DD</td>\n",
       "      <td>469.9</td>\n",
       "      <td>4.0</td>\n",
       "      <td>3.240690</td>\n",
       "      <td>True</td>\n",
       "      <td>False</td>\n",
       "    </tr>\n",
       "    <tr>\n",
       "      <th>766</th>\n",
       "      <td>14110310098</td>\n",
       "      <td>145</td>\n",
       "      <td>D</td>\n",
       "      <td>464.1</td>\n",
       "      <td>4.0</td>\n",
       "      <td>3.200690</td>\n",
       "      <td>True</td>\n",
       "      <td>False</td>\n",
       "    </tr>\n",
       "    <tr>\n",
       "      <th>767</th>\n",
       "      <td>14110310101</td>\n",
       "      <td>138</td>\n",
       "      <td></td>\n",
       "      <td>438.4</td>\n",
       "      <td>4.5</td>\n",
       "      <td>3.176812</td>\n",
       "      <td>True</td>\n",
       "      <td>False</td>\n",
       "    </tr>\n",
       "    <tr>\n",
       "      <th>768</th>\n",
       "      <td>14110310102</td>\n",
       "      <td>133</td>\n",
       "      <td>EEE</td>\n",
       "      <td>362.2</td>\n",
       "      <td>4.5</td>\n",
       "      <td>2.723308</td>\n",
       "      <td>True</td>\n",
       "      <td>False</td>\n",
       "    </tr>\n",
       "    <tr>\n",
       "      <th>769</th>\n",
       "      <td>14110310105</td>\n",
       "      <td>127</td>\n",
       "      <td>E</td>\n",
       "      <td>365.5</td>\n",
       "      <td>4.5</td>\n",
       "      <td>2.877953</td>\n",
       "      <td>True</td>\n",
       "      <td>False</td>\n",
       "    </tr>\n",
       "  </tbody>\n",
       "</table>\n",
       "<p>589 rows × 8 columns</p>\n",
       "</div>"
      ],
      "text/plain": [
       "             NIM  TOTAL_SKS FAILED_GRADE  TOTAL_BOBOT  WAKTU KULIAH       IPK  \\\n",
       "0    00000008429        145            D        474.5           3.5  3.272414   \n",
       "1    00000008455        136           DD        416.2           3.5  3.060294   \n",
       "2    00000008481        127      DDDEEED        313.6           3.5  2.469291   \n",
       "5    00000008757        133       DEDDDD        399.0           3.5  3.000000   \n",
       "6    00000008775        145            D        506.5           3.5  3.493103   \n",
       "..           ...        ...          ...          ...           ...       ...   \n",
       "765  14110310095        145           DD        469.9           4.0  3.240690   \n",
       "766  14110310098        145            D        464.1           4.0  3.200690   \n",
       "767  14110310101        138                     438.4           4.5  3.176812   \n",
       "768  14110310102        133          EEE        362.2           4.5  2.723308   \n",
       "769  14110310105        127            E        365.5           4.5  2.877953   \n",
       "\n",
       "     TIDAK_LULUS  LULUS  \n",
       "0           True  False  \n",
       "1           True  False  \n",
       "2           True  False  \n",
       "5           True  False  \n",
       "6           True  False  \n",
       "..           ...    ...  \n",
       "765         True  False  \n",
       "766         True  False  \n",
       "767         True  False  \n",
       "768         True  False  \n",
       "769         True  False  \n",
       "\n",
       "[589 rows x 8 columns]"
      ]
     },
     "execution_count": 61,
     "metadata": {},
     "output_type": "execute_result"
    }
   ],
   "source": [
    "df3.loc[df3[\"LULUS\"] == False]"
   ]
  },
  {
   "cell_type": "markdown",
   "metadata": {},
   "source": [
    "# Evaluating Models"
   ]
  },
  {
   "cell_type": "code",
   "execution_count": 45,
   "metadata": {
    "ExecuteTime": {
     "end_time": "2022-06-01T08:10:08.212215Z",
     "start_time": "2022-06-01T08:10:08.194850Z"
    }
   },
   "outputs": [],
   "source": [
    "np.random.seed(42)"
   ]
  },
  {
   "cell_type": "code",
   "execution_count": 50,
   "metadata": {
    "ExecuteTime": {
     "end_time": "2022-06-01T08:10:08.255074Z",
     "start_time": "2022-06-01T08:10:08.243418Z"
    }
   },
   "outputs": [],
   "source": [
    "# split dataset\n",
    "\n",
    "X = df3[['TOTAL_SKS', 'IPK']]\n",
    "y = df3['LULUS']\n",
    "\n",
    "X_train, X_val, y_train, y_val = train_test_split(X, y, test_size=0.25, shuffle=True, random_state=42)"
   ]
  },
  {
   "cell_type": "code",
   "execution_count": 51,
   "metadata": {
    "ExecuteTime": {
     "end_time": "2022-06-01T08:10:10.744286Z",
     "start_time": "2022-06-01T08:10:08.267960Z"
    }
   },
   "outputs": [
    {
     "name": "stdout",
     "output_type": "stream",
     "text": [
      "LR \t | cv_score_mean: 0.8716575922565033 \t | cv_score_std: 0.035033191353950575\n",
      "CART \t | cv_score_mean: 0.8509679370840896 \t | cv_score_std: 0.03288367532759163\n",
      "RF \t | cv_score_mean: 0.8561101028433151 \t | cv_score_std: 0.02706854283915798\n"
     ]
    }
   ],
   "source": [
    "# spot-check algorithm\n",
    "\n",
    "models = [('LR', LogisticRegression()),\n",
    "         ('CART', DecisionTreeClassifier()),\n",
    "         ('RF', RandomForestClassifier())]\n",
    "\n",
    "models_name = []\n",
    "results = []\n",
    "\n",
    "for name, model in models:\n",
    "    kfold = StratifiedKFold(n_splits=10, shuffle=True, random_state=42)\n",
    "    cv_score = cross_val_score(model, X_train, y_train, cv=kfold, scoring='accuracy')\n",
    "    models_name.append(name)\n",
    "    results.append(cv_score)\n",
    "    print(f'{name} \\t | cv_score_mean: {cv_score.mean()} \\t | cv_score_std: {cv_score.std()}')"
   ]
  },
  {
   "cell_type": "code",
   "execution_count": 52,
   "metadata": {
    "ExecuteTime": {
     "end_time": "2022-06-01T08:10:10.902642Z",
     "start_time": "2022-06-01T08:10:10.747004Z"
    }
   },
   "outputs": [
    {
     "data": {
      "text/plain": [
       "<AxesSubplot:>"
      ]
     },
     "execution_count": 52,
     "metadata": {},
     "output_type": "execute_result"
    },
    {
     "data": {
      "image/png": "[encoded data removed]",
      "text/plain": [
       "<Figure size 504x432 with 1 Axes>"
      ]
     },
     "metadata": {
      "needs_background": "light"
     },
     "output_type": "display_data"
    }
   ],
   "source": [
    "# boxplot comparing models\n",
    "\n",
    "results_df = pd.DataFrame(np.asarray(results).T, columns=models_name)\n",
    "\n",
    "plt.figure(figsize=(7,6))\n",
    "sns.boxplot(data=results_df, palette='pastel')"
   ]
  },
  {
   "cell_type": "markdown",
   "metadata": {},
   "source": [
    "# Train and Test the Model"
   ]
  },
  {
   "cell_type": "code",
   "execution_count": null,
   "metadata": {
    "ExecuteTime": {
     "end_time": "2022-06-01T08:10:10.932568Z",
     "start_time": "2022-06-01T08:10:10.904326Z"
    }
   },
   "outputs": [
    {
     "data": {
      "text/plain": [
       "LogisticRegression()"
      ]
     },
     "execution_count": 37,
     "metadata": {},
     "output_type": "execute_result"
    }
   ],
   "source": [
    "# train the model\n",
    "\n",
    "model = LogisticRegression()\n",
    "model.fit(X_train, y_train)"
   ]
  },
  {
   "cell_type": "code",
   "execution_count": null,
   "metadata": {
    "ExecuteTime": {
     "end_time": "2022-06-01T08:10:10.944563Z",
     "start_time": "2022-06-01T08:10:10.934727Z"
    }
   },
   "outputs": [
    {
     "name": "stdout",
     "output_type": "stream",
     "text": [
      "accuracy score 0.8549222797927462\n"
     ]
    }
   ],
   "source": [
    "# prediction on validation set\n",
    "\n",
    "y_preds = model.predict(X_val)\n",
    "\n",
    "# evaluating accuracy\n",
    "\n",
    "print('accuracy score', accuracy_score(y_val, y_preds)) "
   ]
  },
  {
   "cell_type": "code",
   "execution_count": null,
   "metadata": {
    "ExecuteTime": {
     "end_time": "2022-06-01T08:10:11.216151Z",
     "start_time": "2022-06-01T08:10:10.948105Z"
    }
   },
   "outputs": [
    {
     "data": {
      "image/png": "[encoded data removed]",
      "text/plain": [
       "<Figure size 432x432 with 2 Axes>"
      ]
     },
     "metadata": {
      "needs_background": "light"
     },
     "output_type": "display_data"
    }
   ],
   "source": [
    "# confusion matrix\n",
    "\n",
    "conf_matrix = confusion_matrix(y_val, y_preds)\n",
    "\n",
    "plt.figure(figsize=(6,6))\n",
    "\n",
    "sns.heatmap(conf_matrix, annot=True, square=True, annot_kws={'fontsize': 13}, fmt='.3g',\n",
    "           cmap = 'Greys', xticklabels=['False', 'True'], yticklabels=['False', 'True'])\n",
    "\n",
    "plt.title('Confusion Matrix')\n",
    "plt.xlabel('Prediction Label')\n",
    "plt.ylabel('True Label')\n",
    "plt.show()"
   ]
  },
  {
   "cell_type": "code",
   "execution_count": null,
   "metadata": {
    "ExecuteTime": {
     "end_time": "2022-06-01T08:10:11.289271Z",
     "start_time": "2022-06-01T08:10:11.274019Z"
    }
   },
   "outputs": [
    {
     "name": "stdout",
     "output_type": "stream",
     "text": [
      "              precision    recall  f1-score   support\n",
      "\n",
      "       False       0.92      0.89      0.90       150\n",
      "        True       0.65      0.74      0.70        43\n",
      "\n",
      "    accuracy                           0.85       193\n",
      "   macro avg       0.79      0.82      0.80       193\n",
      "weighted avg       0.86      0.85      0.86       193\n",
      "\n"
     ]
    }
   ],
   "source": [
    "# classification report\n",
    "\n",
    "print(classification_report(y_val, y_preds))"
   ]
  },
  {
   "cell_type": "code",
   "execution_count": null,
   "metadata": {},
   "outputs": [],
   "source": []
  }
 ],
 "metadata": {
  "interpreter": {
   "hash": "8f5816e6188795d1cc8afa4306b69c5e3a103f064a75e820fe776234e4cf83e8"
  },
  "kernelspec": {
   "display_name": "Python 3 (ipykernel)",
   "language": "python",
   "name": "python3"
  },
  "language_info": {
   "codemirror_mode": {
    "name": "ipython",
    "version": 3
   },
   "file_extension": ".py",
   "mimetype": "text/x-python",
   "name": "python",
   "nbconvert_exporter": "python",
   "pygments_lexer": "ipython3",
   "version": "3.9.0"
  },
  "toc": {
   "base_numbering": 1,
   "nav_menu": {},
   "number_sections": true,
   "sideBar": true,
   "skip_h1_title": false,
   "title_cell": "Table of Contents",
   "title_sidebar": "Contents",
   "toc_cell": false,
   "toc_position": {},
   "toc_section_display": true,
   "toc_window_display": false
  }
 },
 "nbformat": 4,
 "nbformat_minor": 2
}
