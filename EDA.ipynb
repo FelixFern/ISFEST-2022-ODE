{
 "cells": [
  {
   "cell_type": "markdown",
   "metadata": {},
   "source": [
    "#### Setup"
   ]
  },
  {
   "cell_type": "code",
   "execution_count": 2,
   "metadata": {
    "ExecuteTime": {
     "end_time": "2022-05-23T13:29:19.725099Z",
     "start_time": "2022-05-23T13:29:18.778448Z"
    }
   },
   "outputs": [],
   "source": [
    "import matplotlib.pyplot as plt\n",
    "import pandas as pd \n",
    "import numpy as np "
   ]
  },
  {
   "cell_type": "code",
   "execution_count": 3,
   "metadata": {
    "ExecuteTime": {
     "end_time": "2022-05-23T13:29:19.767662Z",
     "start_time": "2022-05-23T13:29:19.727392Z"
    }
   },
   "outputs": [],
   "source": [
    "df1 = pd.read_csv(\"Dataset1_TranscriptMahasiswa.csv\", sep=\";\", dtype={\"NIM\" :\"object\", \"NAMA_MK\" : \"string\"})\n",
    "df2 = pd.read_csv(\"Dataset2_EvaluasiDosenPerMK.csv\", sep=\";\", decimal=\",\")"
   ]
  },
  {
   "cell_type": "code",
   "execution_count": 4,
   "metadata": {
    "ExecuteTime": {
     "end_time": "2022-05-23T13:29:19.794016Z",
     "start_time": "2022-05-23T13:29:19.773024Z"
    }
   },
   "outputs": [
    {
     "data": {
      "text/plain": [
       "770"
      ]
     },
     "execution_count": 4,
     "metadata": {},
     "output_type": "execute_result"
    }
   ],
   "source": [
    "df1[\"NIM\"].nunique()"
   ]
  },
  {
   "cell_type": "markdown",
   "metadata": {},
   "source": [
    "#### Data Cleansing"
   ]
  },
  {
   "cell_type": "markdown",
   "metadata": {},
   "source": [
    "Dataframe 1 (Transkrip Mahasiswa)"
   ]
  },
  {
   "cell_type": "code",
   "execution_count": 5,
   "metadata": {},
   "outputs": [
    {
     "data": {
      "text/plain": [
       "array(['SI863'], dtype=object)"
      ]
     },
     "execution_count": 5,
     "metadata": {},
     "output_type": "execute_result"
    }
   ],
   "source": [
    "df1['KODE_MK'][df1['NAMA_MK'].isnull()].unique()"
   ]
  },
  {
   "cell_type": "code",
   "execution_count": 6,
   "metadata": {},
   "outputs": [],
   "source": [
    "df1[\"NAMA_MK\"] = df1[\"NAMA_MK\"].fillna(\"Tugas Akhir\") # Kebetulan yang null cuman SI863\n",
    "\n",
    "for i in df1.index:  \n",
    "    if df1.at[i, \"KODE_MK\"] not in df1.at[i, \"NAMA_MK\"].split(\" \") : \n",
    "        df1.at[i, \"NAMA_MK\"] = df1.at[i, \"KODE_MK\"] + \" \" + df1.at[i, \"NAMA_MK\"]"
   ]
  },
  {
   "cell_type": "code",
   "execution_count": 7,
   "metadata": {
    "ExecuteTime": {
     "end_time": "2022-05-23T13:29:21.267163Z",
     "start_time": "2022-05-23T13:29:19.796199Z"
    }
   },
   "outputs": [],
   "source": [
    "indeks = [\"A\", \"A-\", \"B+\", \"B\", \"B-\", \"C+\", \"C\", \"D\", \"E\", \"F\"]\n",
    "bobot = [4, 3.7, 3.3, 3.0, 2.7, 2.3, 2.0, 1.0, 0, 0]\n",
    "ranges = [[100, 85], [84.99, 80], [79.99, 75], [74.99, 70], [69.99, 65], [64.99, 60], [59.99, 55], [54.99, 45], [44.99,0]]\n",
    "\n",
    "for i in df1.index: \n",
    "    for j in ranges: \n",
    "        if j[1] <= df1.at[i, \"NILAI\"] <= j[0]:\n",
    "            df1.at[i, \"GRADE\"] = indeks[ranges.index(j)]\n",
    "\n",
    "for i in df1.index:\n",
    "    for j in indeks:\n",
    "        if df1.at[i, \"GRADE\"] == j:\n",
    "            df1.at[i, \"BOBOT\"] = bobot[indeks.index(j)]\n",
    "            df1.at[i, \"TOTAL_BOBOT\"] = df1.at[i, \"BOBOT\"] * df1.at[i, \"SKS\"]"
   ]
  },
  {
   "cell_type": "code",
   "execution_count": 8,
   "metadata": {},
   "outputs": [
    {
     "data": {
      "text/html": [
       "<div>\n",
       "<style scoped>\n",
       "    .dataframe tbody tr th:only-of-type {\n",
       "        vertical-align: middle;\n",
       "    }\n",
       "\n",
       "    .dataframe tbody tr th {\n",
       "        vertical-align: top;\n",
       "    }\n",
       "\n",
       "    .dataframe thead th {\n",
       "        text-align: right;\n",
       "    }\n",
       "</style>\n",
       "<table border=\"1\" class=\"dataframe\">\n",
       "  <thead>\n",
       "    <tr style=\"text-align: right;\">\n",
       "      <th></th>\n",
       "      <th>NIM</th>\n",
       "      <th>ANGKATAN</th>\n",
       "      <th>SEMESTER</th>\n",
       "      <th>KODE_MK</th>\n",
       "      <th>NAMA_MK</th>\n",
       "      <th>SKS</th>\n",
       "      <th>NILAI</th>\n",
       "      <th>GRADE</th>\n",
       "      <th>BOBOT</th>\n",
       "      <th>TOTAL_BOBOT</th>\n",
       "    </tr>\n",
       "  </thead>\n",
       "  <tbody>\n",
       "    <tr>\n",
       "      <th>0</th>\n",
       "      <td>10110310002</td>\n",
       "      <td>2010</td>\n",
       "      <td>1011</td>\n",
       "      <td>EM100</td>\n",
       "      <td>EM100 Dasar-dasar Bisnis</td>\n",
       "      <td>3</td>\n",
       "      <td>57.0</td>\n",
       "      <td>C</td>\n",
       "      <td>2.0</td>\n",
       "      <td>6.0</td>\n",
       "    </tr>\n",
       "    <tr>\n",
       "      <th>1</th>\n",
       "      <td>10110310002</td>\n",
       "      <td>2010</td>\n",
       "      <td>1011</td>\n",
       "      <td>EM180</td>\n",
       "      <td>EM180 Matematika Bisnis</td>\n",
       "      <td>3</td>\n",
       "      <td>70.0</td>\n",
       "      <td>B</td>\n",
       "      <td>3.0</td>\n",
       "      <td>9.0</td>\n",
       "    </tr>\n",
       "    <tr>\n",
       "      <th>2</th>\n",
       "      <td>10110310002</td>\n",
       "      <td>2010</td>\n",
       "      <td>1011</td>\n",
       "      <td>TI100</td>\n",
       "      <td>TI100 Algoritma dan Pemrograman</td>\n",
       "      <td>4</td>\n",
       "      <td>57.0</td>\n",
       "      <td>C</td>\n",
       "      <td>2.0</td>\n",
       "      <td>8.0</td>\n",
       "    </tr>\n",
       "    <tr>\n",
       "      <th>3</th>\n",
       "      <td>10110310002</td>\n",
       "      <td>2010</td>\n",
       "      <td>1011</td>\n",
       "      <td>TI101</td>\n",
       "      <td>TI101 Matematika Diskrit</td>\n",
       "      <td>3</td>\n",
       "      <td>59.0</td>\n",
       "      <td>C</td>\n",
       "      <td>2.0</td>\n",
       "      <td>6.0</td>\n",
       "    </tr>\n",
       "    <tr>\n",
       "      <th>4</th>\n",
       "      <td>10110310002</td>\n",
       "      <td>2010</td>\n",
       "      <td>1011</td>\n",
       "      <td>TI110</td>\n",
       "      <td>TI110 Pengantar Teknologi Multimedia</td>\n",
       "      <td>3</td>\n",
       "      <td>74.0</td>\n",
       "      <td>B</td>\n",
       "      <td>3.0</td>\n",
       "      <td>9.0</td>\n",
       "    </tr>\n",
       "  </tbody>\n",
       "</table>\n",
       "</div>"
      ],
      "text/plain": [
       "           NIM  ANGKATAN  SEMESTER KODE_MK  \\\n",
       "0  10110310002      2010      1011   EM100   \n",
       "1  10110310002      2010      1011   EM180   \n",
       "2  10110310002      2010      1011   TI100   \n",
       "3  10110310002      2010      1011   TI101   \n",
       "4  10110310002      2010      1011   TI110   \n",
       "\n",
       "                                NAMA_MK  SKS  NILAI GRADE  BOBOT  TOTAL_BOBOT  \n",
       "0              EM100 Dasar-dasar Bisnis    3   57.0     C    2.0          6.0  \n",
       "1               EM180 Matematika Bisnis    3   70.0     B    3.0          9.0  \n",
       "2       TI100 Algoritma dan Pemrograman    4   57.0     C    2.0          8.0  \n",
       "3              TI101 Matematika Diskrit    3   59.0     C    2.0          6.0  \n",
       "4  TI110 Pengantar Teknologi Multimedia    3   74.0     B    3.0          9.0  "
      ]
     },
     "execution_count": 8,
     "metadata": {},
     "output_type": "execute_result"
    }
   ],
   "source": [
    "df1.head()"
   ]
  },
  {
   "cell_type": "code",
   "execution_count": 9,
   "metadata": {},
   "outputs": [
    {
     "data": {
      "text/html": [
       "<div>\n",
       "<style scoped>\n",
       "    .dataframe tbody tr th:only-of-type {\n",
       "        vertical-align: middle;\n",
       "    }\n",
       "\n",
       "    .dataframe tbody tr th {\n",
       "        vertical-align: top;\n",
       "    }\n",
       "\n",
       "    .dataframe thead th {\n",
       "        text-align: right;\n",
       "    }\n",
       "</style>\n",
       "<table border=\"1\" class=\"dataframe\">\n",
       "  <thead>\n",
       "    <tr style=\"text-align: right;\">\n",
       "      <th></th>\n",
       "      <th>NIM</th>\n",
       "      <th>ANGKATAN</th>\n",
       "      <th>SEMESTER</th>\n",
       "      <th>KODE_MK</th>\n",
       "      <th>NAMA_MK</th>\n",
       "      <th>SKS</th>\n",
       "      <th>NILAI</th>\n",
       "      <th>GRADE</th>\n",
       "      <th>BOBOT</th>\n",
       "      <th>TOTAL_BOBOT</th>\n",
       "    </tr>\n",
       "  </thead>\n",
       "  <tbody>\n",
       "  </tbody>\n",
       "</table>\n",
       "</div>"
      ],
      "text/plain": [
       "Empty DataFrame\n",
       "Columns: [NIM, ANGKATAN, SEMESTER, KODE_MK, NAMA_MK, SKS, NILAI, GRADE, BOBOT, TOTAL_BOBOT]\n",
       "Index: []"
      ]
     },
     "execution_count": 9,
     "metadata": {},
     "output_type": "execute_result"
    }
   ],
   "source": [
    "df1[df1['GRADE'].isnull()]"
   ]
  },
  {
   "cell_type": "code",
   "execution_count": 10,
   "metadata": {},
   "outputs": [
    {
     "data": {
      "text/html": [
       "<div>\n",
       "<style scoped>\n",
       "    .dataframe tbody tr th:only-of-type {\n",
       "        vertical-align: middle;\n",
       "    }\n",
       "\n",
       "    .dataframe tbody tr th {\n",
       "        vertical-align: top;\n",
       "    }\n",
       "\n",
       "    .dataframe thead th {\n",
       "        text-align: right;\n",
       "    }\n",
       "</style>\n",
       "<table border=\"1\" class=\"dataframe\">\n",
       "  <thead>\n",
       "    <tr style=\"text-align: right;\">\n",
       "      <th></th>\n",
       "      <th>NIM</th>\n",
       "      <th>ANGKATAN</th>\n",
       "      <th>SEMESTER</th>\n",
       "      <th>KODE_MK</th>\n",
       "      <th>NAMA_MK</th>\n",
       "      <th>SKS</th>\n",
       "      <th>NILAI</th>\n",
       "      <th>GRADE</th>\n",
       "      <th>BOBOT</th>\n",
       "      <th>TOTAL_BOBOT</th>\n",
       "    </tr>\n",
       "  </thead>\n",
       "  <tbody>\n",
       "  </tbody>\n",
       "</table>\n",
       "</div>"
      ],
      "text/plain": [
       "Empty DataFrame\n",
       "Columns: [NIM, ANGKATAN, SEMESTER, KODE_MK, NAMA_MK, SKS, NILAI, GRADE, BOBOT, TOTAL_BOBOT]\n",
       "Index: []"
      ]
     },
     "execution_count": 10,
     "metadata": {},
     "output_type": "execute_result"
    }
   ],
   "source": [
    "df1[\"NILAI\"] = df1[\"NILAI\"].fillna(0)\n",
    "df1[df1['NILAI'].isnull()]"
   ]
  },
  {
   "cell_type": "markdown",
   "metadata": {},
   "source": [
    "Dataframe 2 (Evaluasi Dosen per Mata Kuliah)"
   ]
  },
  {
   "cell_type": "code",
   "execution_count": 11,
   "metadata": {},
   "outputs": [
    {
     "data": {
      "text/html": [
       "<div>\n",
       "<style scoped>\n",
       "    .dataframe tbody tr th:only-of-type {\n",
       "        vertical-align: middle;\n",
       "    }\n",
       "\n",
       "    .dataframe tbody tr th {\n",
       "        vertical-align: top;\n",
       "    }\n",
       "\n",
       "    .dataframe thead th {\n",
       "        text-align: right;\n",
       "    }\n",
       "</style>\n",
       "<table border=\"1\" class=\"dataframe\">\n",
       "  <thead>\n",
       "    <tr style=\"text-align: right;\">\n",
       "      <th></th>\n",
       "      <th>TAHUN</th>\n",
       "      <th>SEMESTER</th>\n",
       "      <th>MATAKULIAH</th>\n",
       "      <th>PERTANYAAN</th>\n",
       "      <th>KETERANGAN</th>\n",
       "      <th>NILAI</th>\n",
       "    </tr>\n",
       "  </thead>\n",
       "  <tbody>\n",
       "    <tr>\n",
       "      <th>0</th>\n",
       "      <td>2015</td>\n",
       "      <td>1511</td>\n",
       "      <td>IS100 Management Information Systems</td>\n",
       "      <td>1</td>\n",
       "      <td>Kesiapan memberikan perkuliahan/praktikum</td>\n",
       "      <td>3.28</td>\n",
       "    </tr>\n",
       "    <tr>\n",
       "      <th>1</th>\n",
       "      <td>2015</td>\n",
       "      <td>1511</td>\n",
       "      <td>IS100 Management Information Systems</td>\n",
       "      <td>2</td>\n",
       "      <td>Upaya  menyampaikan materi perkuliahan/praktik...</td>\n",
       "      <td>3.25</td>\n",
       "    </tr>\n",
       "    <tr>\n",
       "      <th>2</th>\n",
       "      <td>2015</td>\n",
       "      <td>1511</td>\n",
       "      <td>IS100 Management Information Systems</td>\n",
       "      <td>3</td>\n",
       "      <td>Sistematis dalam menyampaikan materi perkuliah...</td>\n",
       "      <td>3.24</td>\n",
       "    </tr>\n",
       "    <tr>\n",
       "      <th>3</th>\n",
       "      <td>2015</td>\n",
       "      <td>1511</td>\n",
       "      <td>IS100 Management Information Systems</td>\n",
       "      <td>4</td>\n",
       "      <td>Kemampuan memberikan contoh yang relevan dari ...</td>\n",
       "      <td>3.30</td>\n",
       "    </tr>\n",
       "    <tr>\n",
       "      <th>4</th>\n",
       "      <td>2015</td>\n",
       "      <td>1511</td>\n",
       "      <td>IS100 Management Information Systems</td>\n",
       "      <td>5</td>\n",
       "      <td>Penyampaian materi perkuliahan sesuai dengan k...</td>\n",
       "      <td>3.27</td>\n",
       "    </tr>\n",
       "    <tr>\n",
       "      <th>5</th>\n",
       "      <td>2015</td>\n",
       "      <td>1511</td>\n",
       "      <td>IS100 Management Information Systems</td>\n",
       "      <td>6</td>\n",
       "      <td>Pemakaian buku teks sebagai buku utama perkuli...</td>\n",
       "      <td>3.19</td>\n",
       "    </tr>\n",
       "    <tr>\n",
       "      <th>6</th>\n",
       "      <td>2015</td>\n",
       "      <td>1511</td>\n",
       "      <td>IS100 Management Information Systems</td>\n",
       "      <td>7</td>\n",
       "      <td>Memberi review materi  perkuliahan sebelumnya</td>\n",
       "      <td>3.18</td>\n",
       "    </tr>\n",
       "    <tr>\n",
       "      <th>7</th>\n",
       "      <td>2015</td>\n",
       "      <td>1511</td>\n",
       "      <td>IS100 Management Information Systems</td>\n",
       "      <td>8</td>\n",
       "      <td>Pemberian kesempatan bertanya, berdiskusi sert...</td>\n",
       "      <td>3.32</td>\n",
       "    </tr>\n",
       "    <tr>\n",
       "      <th>8</th>\n",
       "      <td>2015</td>\n",
       "      <td>1511</td>\n",
       "      <td>IS100 Management Information Systems</td>\n",
       "      <td>9</td>\n",
       "      <td>Kejelasan menjawab pertanyaan /diskusi di kelas</td>\n",
       "      <td>3.29</td>\n",
       "    </tr>\n",
       "    <tr>\n",
       "      <th>9</th>\n",
       "      <td>2015</td>\n",
       "      <td>1511</td>\n",
       "      <td>IS100 Management Information Systems</td>\n",
       "      <td>10</td>\n",
       "      <td>Pemberian tugas/kuis serta pembahasannya di kelas</td>\n",
       "      <td>3.24</td>\n",
       "    </tr>\n",
       "    <tr>\n",
       "      <th>10</th>\n",
       "      <td>2015</td>\n",
       "      <td>1511</td>\n",
       "      <td>IS100 Management Information Systems</td>\n",
       "      <td>11</td>\n",
       "      <td>Kemampuan memotivasi semangat belajar mahasiswa</td>\n",
       "      <td>3.31</td>\n",
       "    </tr>\n",
       "    <tr>\n",
       "      <th>11</th>\n",
       "      <td>2015</td>\n",
       "      <td>1511</td>\n",
       "      <td>IS100 Management Information Systems</td>\n",
       "      <td>12</td>\n",
       "      <td>Kemampuan menerima kritik, saran dan pendapat</td>\n",
       "      <td>3.27</td>\n",
       "    </tr>\n",
       "    <tr>\n",
       "      <th>12</th>\n",
       "      <td>2015</td>\n",
       "      <td>1511</td>\n",
       "      <td>IS100 Management Information Systems</td>\n",
       "      <td>13</td>\n",
       "      <td>Fairness dalam memberikan penilaian</td>\n",
       "      <td>3.26</td>\n",
       "    </tr>\n",
       "    <tr>\n",
       "      <th>13</th>\n",
       "      <td>2015</td>\n",
       "      <td>1511</td>\n",
       "      <td>IS100 Management Information Systems</td>\n",
       "      <td>14</td>\n",
       "      <td>Ketepatan waktu dalam memulai dan mengakhiri p...</td>\n",
       "      <td>3.31</td>\n",
       "    </tr>\n",
       "  </tbody>\n",
       "</table>\n",
       "</div>"
      ],
      "text/plain": [
       "    TAHUN  SEMESTER                            MATAKULIAH  PERTANYAAN  \\\n",
       "0    2015      1511  IS100 Management Information Systems           1   \n",
       "1    2015      1511  IS100 Management Information Systems           2   \n",
       "2    2015      1511  IS100 Management Information Systems           3   \n",
       "3    2015      1511  IS100 Management Information Systems           4   \n",
       "4    2015      1511  IS100 Management Information Systems           5   \n",
       "5    2015      1511  IS100 Management Information Systems           6   \n",
       "6    2015      1511  IS100 Management Information Systems           7   \n",
       "7    2015      1511  IS100 Management Information Systems           8   \n",
       "8    2015      1511  IS100 Management Information Systems           9   \n",
       "9    2015      1511  IS100 Management Information Systems          10   \n",
       "10   2015      1511  IS100 Management Information Systems          11   \n",
       "11   2015      1511  IS100 Management Information Systems          12   \n",
       "12   2015      1511  IS100 Management Information Systems          13   \n",
       "13   2015      1511  IS100 Management Information Systems          14   \n",
       "\n",
       "                                           KETERANGAN  NILAI  \n",
       "0           Kesiapan memberikan perkuliahan/praktikum   3.28  \n",
       "1   Upaya  menyampaikan materi perkuliahan/praktik...   3.25  \n",
       "2   Sistematis dalam menyampaikan materi perkuliah...   3.24  \n",
       "3   Kemampuan memberikan contoh yang relevan dari ...   3.30  \n",
       "4   Penyampaian materi perkuliahan sesuai dengan k...   3.27  \n",
       "5   Pemakaian buku teks sebagai buku utama perkuli...   3.19  \n",
       "6       Memberi review materi  perkuliahan sebelumnya   3.18  \n",
       "7   Pemberian kesempatan bertanya, berdiskusi sert...   3.32  \n",
       "8     Kejelasan menjawab pertanyaan /diskusi di kelas   3.29  \n",
       "9   Pemberian tugas/kuis serta pembahasannya di kelas   3.24  \n",
       "10    Kemampuan memotivasi semangat belajar mahasiswa   3.31  \n",
       "11      Kemampuan menerima kritik, saran dan pendapat   3.27  \n",
       "12                Fairness dalam memberikan penilaian   3.26  \n",
       "13  Ketepatan waktu dalam memulai dan mengakhiri p...   3.31  "
      ]
     },
     "execution_count": 11,
     "metadata": {},
     "output_type": "execute_result"
    }
   ],
   "source": [
    "df2.head(14)"
   ]
  },
  {
   "cell_type": "code",
   "execution_count": 28,
   "metadata": {},
   "outputs": [
    {
     "data": {
      "text/html": [
       "<div>\n",
       "<style scoped>\n",
       "    .dataframe tbody tr th:only-of-type {\n",
       "        vertical-align: middle;\n",
       "    }\n",
       "\n",
       "    .dataframe tbody tr th {\n",
       "        vertical-align: top;\n",
       "    }\n",
       "\n",
       "    .dataframe thead th {\n",
       "        text-align: right;\n",
       "    }\n",
       "</style>\n",
       "<table border=\"1\" class=\"dataframe\">\n",
       "  <thead>\n",
       "    <tr style=\"text-align: right;\">\n",
       "      <th></th>\n",
       "      <th>TAHUN</th>\n",
       "      <th>MATAKULIAH</th>\n",
       "      <th>NILAI_RATA-RATA</th>\n",
       "    </tr>\n",
       "  </thead>\n",
       "  <tbody>\n",
       "    <tr>\n",
       "      <th>0</th>\n",
       "      <td>2015</td>\n",
       "      <td>IS100 Management Information Systems</td>\n",
       "      <td>3.265000</td>\n",
       "    </tr>\n",
       "    <tr>\n",
       "      <th>1</th>\n",
       "      <td>2015</td>\n",
       "      <td>IS110 Business Mathematics</td>\n",
       "      <td>3.087143</td>\n",
       "    </tr>\n",
       "    <tr>\n",
       "      <th>2</th>\n",
       "      <td>2015</td>\n",
       "      <td>IS201 Corporate Business Processes</td>\n",
       "      <td>3.064286</td>\n",
       "    </tr>\n",
       "    <tr>\n",
       "      <th>3</th>\n",
       "      <td>2015</td>\n",
       "      <td>IS220 Human and Computer Interaction</td>\n",
       "      <td>3.295000</td>\n",
       "    </tr>\n",
       "    <tr>\n",
       "      <th>4</th>\n",
       "      <td>2015</td>\n",
       "      <td>IS230 Algorithms and Programming</td>\n",
       "      <td>3.129286</td>\n",
       "    </tr>\n",
       "    <tr>\n",
       "      <th>...</th>\n",
       "      <td>...</td>\n",
       "      <td>...</td>\n",
       "      <td>...</td>\n",
       "    </tr>\n",
       "    <tr>\n",
       "      <th>134</th>\n",
       "      <td>2018</td>\n",
       "      <td>IS726 Innovation in Information and Technology</td>\n",
       "      <td>3.363571</td>\n",
       "    </tr>\n",
       "    <tr>\n",
       "      <th>135</th>\n",
       "      <td>2018</td>\n",
       "      <td>IS747 Database Administration 2</td>\n",
       "      <td>3.740000</td>\n",
       "    </tr>\n",
       "    <tr>\n",
       "      <th>136</th>\n",
       "      <td>2018</td>\n",
       "      <td>IS749 Business Intelligence</td>\n",
       "      <td>3.361429</td>\n",
       "    </tr>\n",
       "    <tr>\n",
       "      <th>137</th>\n",
       "      <td>2018</td>\n",
       "      <td>IS773 IT Governance 3</td>\n",
       "      <td>3.240714</td>\n",
       "    </tr>\n",
       "    <tr>\n",
       "      <th>138</th>\n",
       "      <td>2018</td>\n",
       "      <td>IS782 Enterprise Application and Systems 3</td>\n",
       "      <td>3.310714</td>\n",
       "    </tr>\n",
       "  </tbody>\n",
       "</table>\n",
       "<p>139 rows × 3 columns</p>\n",
       "</div>"
      ],
      "text/plain": [
       "     TAHUN                                      MATAKULIAH  NILAI_RATA-RATA\n",
       "0     2015            IS100 Management Information Systems         3.265000\n",
       "1     2015                      IS110 Business Mathematics         3.087143\n",
       "2     2015              IS201 Corporate Business Processes         3.064286\n",
       "3     2015            IS220 Human and Computer Interaction         3.295000\n",
       "4     2015                IS230 Algorithms and Programming         3.129286\n",
       "..     ...                                             ...              ...\n",
       "134   2018  IS726 Innovation in Information and Technology         3.363571\n",
       "135   2018                 IS747 Database Administration 2         3.740000\n",
       "136   2018                     IS749 Business Intelligence         3.361429\n",
       "137   2018                           IS773 IT Governance 3         3.240714\n",
       "138   2018      IS782 Enterprise Application and Systems 3         3.310714\n",
       "\n",
       "[139 rows x 3 columns]"
      ]
     },
     "execution_count": 28,
     "metadata": {},
     "output_type": "execute_result"
    }
   ],
   "source": [
    "df4 = pd.DataFrame(df2.groupby([\"TAHUN\", \"MATAKULIAH\"])[\"NILAI\"].mean().reset_index())\n",
    "df4.rename(columns = {\"NILAI\" : \"NILAI_RATA-RATA\"}, inplace = True)\n",
    "\n",
    "df4"
   ]
  },
  {
   "cell_type": "markdown",
   "metadata": {},
   "source": [
    "Data Exploration"
   ]
  },
  {
   "cell_type": "code",
   "execution_count": 12,
   "metadata": {},
   "outputs": [
    {
     "data": {
      "text/plain": [
       "Text(0, 0.5, 'Jumlah')"
      ]
     },
     "execution_count": 12,
     "metadata": {},
     "output_type": "execute_result"
    },
    {
     "data": {
      "image/png": "[encoded data removed]",
      "text/plain": [
       "<Figure size 432x288 with 1 Axes>"
      ]
     },
     "metadata": {
      "needs_background": "light"
     },
     "output_type": "display_data"
    }
   ],
   "source": [
    "plt.title(\"Distribusi Nilai Semua Mata Kuliah\")\n",
    "plt.hist(df1[\"NILAI\"], bins=[0, 10, 20, 30, 40, 50, 60, 70, 80, 90, 100], rwidth=0.9)\n",
    "plt.xticks([0, 10, 20, 30, 40, 50, 60, 70, 80, 90, 100])\n",
    "plt.xlabel(\"Nilai\")\n",
    "plt.ylabel(\"Jumlah\")"
   ]
  },
  {
   "cell_type": "code",
   "execution_count": 26,
   "metadata": {},
   "outputs": [
    {
     "data": {
      "text/html": [
       "<div>\n",
       "<style scoped>\n",
       "    .dataframe tbody tr th:only-of-type {\n",
       "        vertical-align: middle;\n",
       "    }\n",
       "\n",
       "    .dataframe tbody tr th {\n",
       "        vertical-align: top;\n",
       "    }\n",
       "\n",
       "    .dataframe thead th {\n",
       "        text-align: right;\n",
       "    }\n",
       "</style>\n",
       "<table border=\"1\" class=\"dataframe\">\n",
       "  <thead>\n",
       "    <tr style=\"text-align: right;\">\n",
       "      <th></th>\n",
       "      <th>NIM</th>\n",
       "      <th>TOTAL SKS</th>\n",
       "      <th>FAILED_GRADE</th>\n",
       "      <th>TOTAL_BOBOT</th>\n",
       "      <th>IPK</th>\n",
       "    </tr>\n",
       "  </thead>\n",
       "  <tbody>\n",
       "    <tr>\n",
       "      <th>0</th>\n",
       "      <td>00000008429</td>\n",
       "      <td>145</td>\n",
       "      <td>D</td>\n",
       "      <td>474.5</td>\n",
       "      <td>3.272414</td>\n",
       "    </tr>\n",
       "    <tr>\n",
       "      <th>1</th>\n",
       "      <td>00000008455</td>\n",
       "      <td>136</td>\n",
       "      <td>DD</td>\n",
       "      <td>416.2</td>\n",
       "      <td>3.060294</td>\n",
       "    </tr>\n",
       "    <tr>\n",
       "      <th>2</th>\n",
       "      <td>00000008481</td>\n",
       "      <td>127</td>\n",
       "      <td>DDDEEED</td>\n",
       "      <td>313.6</td>\n",
       "      <td>2.469291</td>\n",
       "    </tr>\n",
       "    <tr>\n",
       "      <th>3</th>\n",
       "      <td>00000008631</td>\n",
       "      <td>145</td>\n",
       "      <td></td>\n",
       "      <td>519.3</td>\n",
       "      <td>3.581379</td>\n",
       "    </tr>\n",
       "    <tr>\n",
       "      <th>4</th>\n",
       "      <td>00000008684</td>\n",
       "      <td>145</td>\n",
       "      <td></td>\n",
       "      <td>512.1</td>\n",
       "      <td>3.531724</td>\n",
       "    </tr>\n",
       "  </tbody>\n",
       "</table>\n",
       "</div>"
      ],
      "text/plain": [
       "           NIM  TOTAL SKS FAILED_GRADE  TOTAL_BOBOT       IPK\n",
       "0  00000008429        145            D        474.5  3.272414\n",
       "1  00000008455        136           DD        416.2  3.060294\n",
       "2  00000008481        127      DDDEEED        313.6  2.469291\n",
       "3  00000008631        145                     519.3  3.581379\n",
       "4  00000008684        145                     512.1  3.531724"
      ]
     },
     "execution_count": 26,
     "metadata": {},
     "output_type": "execute_result"
    }
   ],
   "source": [
    "# Pembuataan Dataframe dengan grouping data berdasarkan NIM\n",
    "# Perhitungan SKS\n",
    "df3_ = pd.DataFrame(df1.groupby([\"NIM\"])[\"SKS\"].sum().reset_index())\n",
    "# Perhitungan Grade\n",
    "df3__ = pd.DataFrame(df1.loc[(df1[\"GRADE\"] == \"D\") | (df1[\"GRADE\"] == \"E\") | (df1[\"GRADE\"] == \"F\")].groupby(\"NIM\")[\"GRADE\"].sum().reset_index())\n",
    "# Perhitungan Total Bobot\n",
    "df3___ = pd.DataFrame((df1.groupby(\"NIM\")[\"TOTAL_BOBOT\"].sum().reset_index()))\n",
    "\n",
    "# Merging Dataframe\n",
    "df3 = pd.merge(df3_, df3__, how=\"left\", on=[\"NIM\"])\n",
    "df3 = pd.merge(df3, df3___, how=\"left\", on=[\"NIM\"])\n",
    "df3[\"GRADE\"] = df3[\"GRADE\"].fillna(\"\")\n",
    "\n",
    "# Perhitungan IPK\n",
    "for i in df3.index:\n",
    "    df3.at[i ,\"IPK\"] = df3.at[i, \"TOTAL_BOBOT\"] / df3.at[i, \"SKS\"]\n",
    "\n",
    "df3.rename(columns = {\"GRADE\" : \"FAILED_GRADE\", \"SKS\" : \"TOTAL SKS\"}, inplace = True)\n",
    "df3.head()"
   ]
  },
  {
   "cell_type": "code",
   "execution_count": 14,
   "metadata": {},
   "outputs": [],
   "source": [
    "# Belum Nambah Faktor yang ngulang terus nilainya udah lulus \n",
    "for i in df3.index:\n",
    "    if df3.at[i, \"SKS\"] >= 144 and df3.at[i, \"GRADE\"] == \"\" and df3.at[i, \"IPK\"] >= 2.5:\n",
    "        df3.at[i, \"TIDAK_LULUS\"] = False\n",
    "    else:  \n",
    "        df3.at[i, \"TIDAK_LULUS\"] = True"
   ]
  },
  {
   "cell_type": "code",
   "execution_count": 15,
   "metadata": {},
   "outputs": [
    {
     "data": {
      "text/plain": [
       "True     589\n",
       "False    181\n",
       "Name: TIDAK_LULUS, dtype: int64"
      ]
     },
     "execution_count": 15,
     "metadata": {},
     "output_type": "execute_result"
    }
   ],
   "source": [
    "df3[\"TIDAK_LULUS\"].value_counts()"
   ]
  },
  {
   "cell_type": "code",
   "execution_count": 16,
   "metadata": {},
   "outputs": [
    {
     "data": {
      "text/plain": [
       "<matplotlib.legend.Legend at 0x1ed0d43fca0>"
      ]
     },
     "execution_count": 16,
     "metadata": {},
     "output_type": "execute_result"
    },
    {
     "data": {
      "image/png": "[encoded data removed]",
      "text/plain": [
       "<Figure size 432x288 with 1 Axes>"
      ]
     },
     "metadata": {},
     "output_type": "display_data"
    }
   ],
   "source": [
    "plt.pie(df3[\"TIDAK_LULUS\"].value_counts(), autopct='%1.1f%%')\n",
    "plt.legend([\"Tidak\", \"Lulus\"], labelcolor=\"linecolor\")"
   ]
  },
  {
   "cell_type": "code",
   "execution_count": null,
   "metadata": {},
   "outputs": [],
   "source": []
  }
 ],
 "metadata": {
  "interpreter": {
   "hash": "8f5816e6188795d1cc8afa4306b69c5e3a103f064a75e820fe776234e4cf83e8"
  },
  "kernelspec": {
   "display_name": "Python 3 (ipykernel)",
   "language": "python",
   "name": "python3"
  },
  "language_info": {
   "codemirror_mode": {
    "name": "ipython",
    "version": 3
   },
   "file_extension": ".py",
   "mimetype": "text/x-python",
   "name": "python",
   "nbconvert_exporter": "python",
   "pygments_lexer": "ipython3",
   "version": "3.9.0"
  },
  "toc": {
   "base_numbering": 1,
   "nav_menu": {},
   "number_sections": true,
   "sideBar": true,
   "skip_h1_title": false,
   "title_cell": "Table of Contents",
   "title_sidebar": "Contents",
   "toc_cell": false,
   "toc_position": {},
   "toc_section_display": true,
   "toc_window_display": false
  }
 },
 "nbformat": 4,
 "nbformat_minor": 2
}
